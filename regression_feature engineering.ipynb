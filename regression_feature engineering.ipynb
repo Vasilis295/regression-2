{
 "cells": [
  {
   "cell_type": "code",
   "execution_count": 1,
   "metadata": {},
   "outputs": [],
   "source": [
    "import numpy as np\n",
    "import pandas as pd"
   ]
  },
  {
   "cell_type": "code",
   "execution_count": 2,
   "metadata": {},
   "outputs": [],
   "source": [
    "df=pd.read_csv('data_cleaned_2021.csv')"
   ]
  },
  {
   "cell_type": "code",
   "execution_count": 3,
   "metadata": {},
   "outputs": [
    {
     "data": {
      "text/html": [
       "<div>\n",
       "<style scoped>\n",
       "    .dataframe tbody tr th:only-of-type {\n",
       "        vertical-align: middle;\n",
       "    }\n",
       "\n",
       "    .dataframe tbody tr th {\n",
       "        vertical-align: top;\n",
       "    }\n",
       "\n",
       "    .dataframe thead th {\n",
       "        text-align: right;\n",
       "    }\n",
       "</style>\n",
       "<table border=\"1\" class=\"dataframe\">\n",
       "  <thead>\n",
       "    <tr style=\"text-align: right;\">\n",
       "      <th></th>\n",
       "      <th>index</th>\n",
       "      <th>Job Title</th>\n",
       "      <th>Salary Estimate</th>\n",
       "      <th>Job Description</th>\n",
       "      <th>Rating</th>\n",
       "      <th>Company Name</th>\n",
       "      <th>Location</th>\n",
       "      <th>Headquarters</th>\n",
       "      <th>Size</th>\n",
       "      <th>Founded</th>\n",
       "      <th>...</th>\n",
       "      <th>tensor</th>\n",
       "      <th>hadoop</th>\n",
       "      <th>tableau</th>\n",
       "      <th>bi</th>\n",
       "      <th>flink</th>\n",
       "      <th>mongo</th>\n",
       "      <th>google_an</th>\n",
       "      <th>job_title_sim</th>\n",
       "      <th>seniority_by_title</th>\n",
       "      <th>Degree</th>\n",
       "    </tr>\n",
       "  </thead>\n",
       "  <tbody>\n",
       "    <tr>\n",
       "      <th>0</th>\n",
       "      <td>0</td>\n",
       "      <td>Data Scientist</td>\n",
       "      <td>$53K-$91K (Glassdoor est.)</td>\n",
       "      <td>Data Scientist\\nLocation: Albuquerque, NM\\nEdu...</td>\n",
       "      <td>3.8</td>\n",
       "      <td>Tecolote Research\\n3.8</td>\n",
       "      <td>Albuquerque, NM</td>\n",
       "      <td>Goleta, CA</td>\n",
       "      <td>501 - 1000</td>\n",
       "      <td>1973</td>\n",
       "      <td>...</td>\n",
       "      <td>0</td>\n",
       "      <td>0</td>\n",
       "      <td>1</td>\n",
       "      <td>1</td>\n",
       "      <td>0</td>\n",
       "      <td>0</td>\n",
       "      <td>0</td>\n",
       "      <td>data scientist</td>\n",
       "      <td>na</td>\n",
       "      <td>M</td>\n",
       "    </tr>\n",
       "    <tr>\n",
       "      <th>1</th>\n",
       "      <td>1</td>\n",
       "      <td>Healthcare Data Scientist</td>\n",
       "      <td>$63K-$112K (Glassdoor est.)</td>\n",
       "      <td>What You Will Do:\\n\\nI. General Summary\\n\\nThe...</td>\n",
       "      <td>3.4</td>\n",
       "      <td>University of Maryland Medical System\\n3.4</td>\n",
       "      <td>Linthicum, MD</td>\n",
       "      <td>Baltimore, MD</td>\n",
       "      <td>10000+</td>\n",
       "      <td>1984</td>\n",
       "      <td>...</td>\n",
       "      <td>0</td>\n",
       "      <td>0</td>\n",
       "      <td>0</td>\n",
       "      <td>0</td>\n",
       "      <td>0</td>\n",
       "      <td>0</td>\n",
       "      <td>0</td>\n",
       "      <td>data scientist</td>\n",
       "      <td>na</td>\n",
       "      <td>M</td>\n",
       "    </tr>\n",
       "    <tr>\n",
       "      <th>2</th>\n",
       "      <td>2</td>\n",
       "      <td>Data Scientist</td>\n",
       "      <td>$80K-$90K (Glassdoor est.)</td>\n",
       "      <td>KnowBe4, Inc. is a high growth information sec...</td>\n",
       "      <td>4.8</td>\n",
       "      <td>KnowBe4\\n4.8</td>\n",
       "      <td>Clearwater, FL</td>\n",
       "      <td>Clearwater, FL</td>\n",
       "      <td>501 - 1000</td>\n",
       "      <td>2010</td>\n",
       "      <td>...</td>\n",
       "      <td>0</td>\n",
       "      <td>0</td>\n",
       "      <td>0</td>\n",
       "      <td>0</td>\n",
       "      <td>0</td>\n",
       "      <td>0</td>\n",
       "      <td>0</td>\n",
       "      <td>data scientist</td>\n",
       "      <td>na</td>\n",
       "      <td>M</td>\n",
       "    </tr>\n",
       "    <tr>\n",
       "      <th>3</th>\n",
       "      <td>3</td>\n",
       "      <td>Data Scientist</td>\n",
       "      <td>$56K-$97K (Glassdoor est.)</td>\n",
       "      <td>*Organization and Job ID**\\nJob ID: 310709\\n\\n...</td>\n",
       "      <td>3.8</td>\n",
       "      <td>PNNL\\n3.8</td>\n",
       "      <td>Richland, WA</td>\n",
       "      <td>Richland, WA</td>\n",
       "      <td>1001 - 5000</td>\n",
       "      <td>1965</td>\n",
       "      <td>...</td>\n",
       "      <td>0</td>\n",
       "      <td>0</td>\n",
       "      <td>0</td>\n",
       "      <td>0</td>\n",
       "      <td>0</td>\n",
       "      <td>0</td>\n",
       "      <td>0</td>\n",
       "      <td>data scientist</td>\n",
       "      <td>na</td>\n",
       "      <td>na</td>\n",
       "    </tr>\n",
       "    <tr>\n",
       "      <th>4</th>\n",
       "      <td>4</td>\n",
       "      <td>Data Scientist</td>\n",
       "      <td>$86K-$143K (Glassdoor est.)</td>\n",
       "      <td>Data Scientist\\nAffinity Solutions / Marketing...</td>\n",
       "      <td>2.9</td>\n",
       "      <td>Affinity Solutions\\n2.9</td>\n",
       "      <td>New York, NY</td>\n",
       "      <td>New York, NY</td>\n",
       "      <td>51 - 200</td>\n",
       "      <td>1998</td>\n",
       "      <td>...</td>\n",
       "      <td>0</td>\n",
       "      <td>0</td>\n",
       "      <td>0</td>\n",
       "      <td>0</td>\n",
       "      <td>0</td>\n",
       "      <td>0</td>\n",
       "      <td>0</td>\n",
       "      <td>data scientist</td>\n",
       "      <td>na</td>\n",
       "      <td>na</td>\n",
       "    </tr>\n",
       "  </tbody>\n",
       "</table>\n",
       "<p>5 rows × 42 columns</p>\n",
       "</div>"
      ],
      "text/plain": [
       "   index                  Job Title              Salary Estimate  \\\n",
       "0      0             Data Scientist   $53K-$91K (Glassdoor est.)   \n",
       "1      1  Healthcare Data Scientist  $63K-$112K (Glassdoor est.)   \n",
       "2      2             Data Scientist   $80K-$90K (Glassdoor est.)   \n",
       "3      3             Data Scientist   $56K-$97K (Glassdoor est.)   \n",
       "4      4             Data Scientist  $86K-$143K (Glassdoor est.)   \n",
       "\n",
       "                                     Job Description  Rating  \\\n",
       "0  Data Scientist\\nLocation: Albuquerque, NM\\nEdu...     3.8   \n",
       "1  What You Will Do:\\n\\nI. General Summary\\n\\nThe...     3.4   \n",
       "2  KnowBe4, Inc. is a high growth information sec...     4.8   \n",
       "3  *Organization and Job ID**\\nJob ID: 310709\\n\\n...     3.8   \n",
       "4  Data Scientist\\nAffinity Solutions / Marketing...     2.9   \n",
       "\n",
       "                                 Company Name         Location  \\\n",
       "0                      Tecolote Research\\n3.8  Albuquerque, NM   \n",
       "1  University of Maryland Medical System\\n3.4    Linthicum, MD   \n",
       "2                                KnowBe4\\n4.8   Clearwater, FL   \n",
       "3                                   PNNL\\n3.8     Richland, WA   \n",
       "4                     Affinity Solutions\\n2.9     New York, NY   \n",
       "\n",
       "     Headquarters          Size  Founded  ... tensor hadoop tableau bi flink  \\\n",
       "0      Goleta, CA   501 - 1000      1973  ...      0      0       1  1     0   \n",
       "1   Baltimore, MD       10000+      1984  ...      0      0       0  0     0   \n",
       "2  Clearwater, FL   501 - 1000      2010  ...      0      0       0  0     0   \n",
       "3    Richland, WA  1001 - 5000      1965  ...      0      0       0  0     0   \n",
       "4    New York, NY     51 - 200      1998  ...      0      0       0  0     0   \n",
       "\n",
       "   mongo  google_an   job_title_sim  seniority_by_title  Degree  \n",
       "0      0          0  data scientist                  na       M  \n",
       "1      0          0  data scientist                  na       M  \n",
       "2      0          0  data scientist                  na       M  \n",
       "3      0          0  data scientist                  na      na  \n",
       "4      0          0  data scientist                  na      na  \n",
       "\n",
       "[5 rows x 42 columns]"
      ]
     },
     "execution_count": 3,
     "metadata": {},
     "output_type": "execute_result"
    }
   ],
   "source": [
    "df.head()"
   ]
  },
  {
   "cell_type": "code",
   "execution_count": 4,
   "metadata": {},
   "outputs": [
    {
     "name": "stdout",
     "output_type": "stream",
     "text": [
      "<class 'pandas.core.frame.DataFrame'>\n",
      "RangeIndex: 742 entries, 0 to 741\n",
      "Data columns (total 42 columns):\n",
      " #   Column              Non-Null Count  Dtype  \n",
      "---  ------              --------------  -----  \n",
      " 0   index               742 non-null    int64  \n",
      " 1   Job Title           742 non-null    object \n",
      " 2   Salary Estimate     742 non-null    object \n",
      " 3   Job Description     742 non-null    object \n",
      " 4   Rating              742 non-null    float64\n",
      " 5   Company Name        742 non-null    object \n",
      " 6   Location            742 non-null    object \n",
      " 7   Headquarters        742 non-null    object \n",
      " 8   Size                742 non-null    object \n",
      " 9   Founded             742 non-null    int64  \n",
      " 10  Type of ownership   742 non-null    object \n",
      " 11  Industry            742 non-null    object \n",
      " 12  Sector              742 non-null    object \n",
      " 13  Revenue             742 non-null    object \n",
      " 14  Competitors         742 non-null    object \n",
      " 15  Hourly              742 non-null    int64  \n",
      " 16  Employer provided   742 non-null    int64  \n",
      " 17  Lower Salary        742 non-null    int64  \n",
      " 18  Upper Salary        742 non-null    int64  \n",
      " 19  Avg Salary(K)       742 non-null    float64\n",
      " 20  company_txt         742 non-null    object \n",
      " 21  Job Location        742 non-null    object \n",
      " 22  Age                 742 non-null    int64  \n",
      " 23  Python              742 non-null    int64  \n",
      " 24  spark               742 non-null    int64  \n",
      " 25  aws                 742 non-null    int64  \n",
      " 26  excel               742 non-null    int64  \n",
      " 27  sql                 742 non-null    int64  \n",
      " 28  sas                 742 non-null    int64  \n",
      " 29  keras               742 non-null    int64  \n",
      " 30  pytorch             742 non-null    int64  \n",
      " 31  scikit              742 non-null    int64  \n",
      " 32  tensor              742 non-null    int64  \n",
      " 33  hadoop              742 non-null    int64  \n",
      " 34  tableau             742 non-null    int64  \n",
      " 35  bi                  742 non-null    int64  \n",
      " 36  flink               742 non-null    int64  \n",
      " 37  mongo               742 non-null    int64  \n",
      " 38  google_an           742 non-null    int64  \n",
      " 39  job_title_sim       742 non-null    object \n",
      " 40  seniority_by_title  742 non-null    object \n",
      " 41  Degree              742 non-null    object \n",
      "dtypes: float64(2), int64(23), object(17)\n",
      "memory usage: 243.6+ KB\n"
     ]
    }
   ],
   "source": [
    "df.info()"
   ]
  },
  {
   "cell_type": "markdown",
   "metadata": {},
   "source": [
    "we start from job title and then for many of the important variables we group their values into 3-4 groups with recognizable names, so then we can perform EDA and understand what we see, but also to lessen our dummies in the regression afterwords, so that data are more compact"
   ]
  },
  {
   "cell_type": "code",
   "execution_count": 5,
   "metadata": {},
   "outputs": [
    {
     "data": {
      "text/plain": [
       "data scientist                    313\n",
       "other scientist                   143\n",
       "data engineer                     119\n",
       "analyst                           101\n",
       "machine learning engineer          22\n",
       "Data scientist project manager     16\n",
       "na                                 10\n",
       "data analitics                      8\n",
       "data modeler                        5\n",
       "director                            5\n",
       "Name: job_title_sim, dtype: int64"
      ]
     },
     "execution_count": 5,
     "metadata": {},
     "output_type": "execute_result"
    }
   ],
   "source": [
    "df['job_title_sim'].value_counts()"
   ]
  },
  {
   "cell_type": "code",
   "execution_count": 6,
   "metadata": {},
   "outputs": [],
   "source": [
    "data_sc=['data scientist']\n",
    "data_eng=['data engineer','data modeler','machine learning engineer']\n",
    "data_analyst=['analyst','data analitics']\n",
    "manager=['Data scientist project manager','director']\n",
    "na=['na']"
   ]
  },
  {
   "cell_type": "code",
   "execution_count": 7,
   "metadata": {},
   "outputs": [],
   "source": [
    "def Getjob(job):\n",
    "    if job in data_sc:\n",
    "        return \"data_scientist\"\n",
    "    elif job in data_eng:\n",
    "        return \"data_engineer\"\n",
    "    elif job in data_analyst:\n",
    "        return \"data_analyst\"\n",
    "    else:\n",
    "        return \"unkown\""
   ]
  },
  {
   "cell_type": "code",
   "execution_count": 8,
   "metadata": {},
   "outputs": [],
   "source": [
    "df['job_title'] = df['job_title_sim'].apply(lambda x: Getjob(x))"
   ]
  },
  {
   "cell_type": "code",
   "execution_count": 9,
   "metadata": {},
   "outputs": [
    {
     "data": {
      "text/plain": [
       "Information Technology                180\n",
       "Biotech & Pharmaceuticals             112\n",
       "Business Services                      97\n",
       "Insurance                              69\n",
       "Health Care                            49\n",
       "Finance                                42\n",
       "Manufacturing                          34\n",
       "Aerospace & Defense                    25\n",
       "Education                              23\n",
       "Retail                                 15\n",
       "Oil, Gas, Energy & Utilities           14\n",
       "Government                             11\n",
       "-1                                     10\n",
       "Non-Profit                              9\n",
       "Transportation & Logistics              8\n",
       "Real Estate                             8\n",
       "Travel & Tourism                        8\n",
       "Telecommunications                      6\n",
       "Media                                   6\n",
       "Arts, Entertainment & Recreation        4\n",
       "Consumer Services                       4\n",
       "Mining & Metals                         3\n",
       "Construction, Repair & Maintenance      3\n",
       "Agriculture & Forestry                  1\n",
       "Accounting & Legal                      1\n",
       "Name: Sector, dtype: int64"
      ]
     },
     "execution_count": 9,
     "metadata": {},
     "output_type": "execute_result"
    }
   ],
   "source": [
    "df['Sector'].value_counts()"
   ]
  },
  {
   "cell_type": "code",
   "execution_count": 10,
   "metadata": {},
   "outputs": [
    {
     "data": {
      "text/plain": [
       "array(['Aerospace & Defense', 'Health Care', 'Business Services',\n",
       "       'Oil, Gas, Energy & Utilities', 'Real Estate', 'Finance',\n",
       "       'Information Technology', 'Retail', 'Biotech & Pharmaceuticals',\n",
       "       'Media', 'Insurance', 'Transportation & Logistics',\n",
       "       'Telecommunications', '-1', 'Manufacturing', 'Mining & Metals',\n",
       "       'Government', 'Education', 'Agriculture & Forestry',\n",
       "       'Travel & Tourism', 'Non-Profit',\n",
       "       'Arts, Entertainment & Recreation',\n",
       "       'Construction, Repair & Maintenance', 'Accounting & Legal',\n",
       "       'Consumer Services'], dtype=object)"
      ]
     },
     "execution_count": 10,
     "metadata": {},
     "output_type": "execute_result"
    }
   ],
   "source": [
    "df['Sector'].unique()"
   ]
  },
  {
   "cell_type": "code",
   "execution_count": 11,
   "metadata": {},
   "outputs": [],
   "source": [
    "sector_miscel=[ 'Retail', 'Education'\n",
    "       'Media', 'Transportation & Logistics',\n",
    "       'Telecommunications', '-1',  'Mining & Metals',\n",
    "       'Government',  'Agriculture & Forestry',\n",
    "       'Travel & Tourism', 'Non-Profit',\n",
    "       'Arts, Entertainment & Recreation',\n",
    "       'Construction, Repair & Maintenance', \n",
    "       'Consumer Services']\n",
    "sector_fin=['Finance','Insurance','Business Services','Accounting & Legal']\n",
    "sector_health=['Health Care','Biotech & Pharmaceuticals']\n",
    "sector_it=['Information Technology']\n",
    "sector_man=['Aerospace & Defense','Manufacturing']"
   ]
  },
  {
   "cell_type": "code",
   "execution_count": 12,
   "metadata": {},
   "outputs": [],
   "source": [
    "def Getsector(sector):\n",
    "    if sector in sector_fin:\n",
    "        return \"finance\"\n",
    "    elif sector in sector_health:\n",
    "        return \"health\"\n",
    "    elif sector in sector_man:\n",
    "        return \"aerospace_def_manufact\"\n",
    "    else:\n",
    "        return \"misceleneaous\""
   ]
  },
  {
   "cell_type": "code",
   "execution_count": 13,
   "metadata": {},
   "outputs": [],
   "source": [
    "df['sector'] = df['Sector'].apply(lambda x: Getsector(x))"
   ]
  },
  {
   "cell_type": "code",
   "execution_count": 14,
   "metadata": {},
   "outputs": [
    {
     "data": {
      "text/plain": [
       "Unknown / Non-Applicable            204\n",
       "$10+ billion (USD)                  124\n",
       "$100 to $500 million (USD)           91\n",
       "$1 to $2 billion (USD)               60\n",
       "$500 million to $1 billion (USD)     57\n",
       "$50 to $100 million (USD)            46\n",
       "$25 to $50 million (USD)             40\n",
       "$2 to $5 billion (USD)               39\n",
       "$10 to $25 million (USD)             32\n",
       "$5 to $10 billion (USD)              19\n",
       "$5 to $10 million (USD)              18\n",
       "$1 to $5 million (USD)                8\n",
       "Less than $1 million (USD)            4\n",
       "Name: Revenue, dtype: int64"
      ]
     },
     "execution_count": 14,
     "metadata": {},
     "output_type": "execute_result"
    }
   ],
   "source": [
    "df['Revenue'].value_counts()"
   ]
  },
  {
   "cell_type": "code",
   "execution_count": 15,
   "metadata": {},
   "outputs": [],
   "source": [
    "rev_unknown=['Unknown / Non-Applicable']\n",
    "rev_less25m=['Less than $1 million (USD)','$1 to $5 million (USD)','$5 to $10 million (USD)','$10 to $25 million (USD']\n",
    "rev_upto_1b=['$25 to $50 million (USD)','$50 to $100 million (USD','$100 to $500 million (USD)','$500 million to $1 billion (USD)']\n",
    "rev_higher_1b=['$1 to $2 billion (USD)','$2 to $5 billion (USD)','$5 to $10 billion (USD)','$10+ billion (USD)']"
   ]
  },
  {
   "cell_type": "code",
   "execution_count": 16,
   "metadata": {},
   "outputs": [],
   "source": [
    "def Getrevenue(revenue):\n",
    "    if revenue in rev_less25m:\n",
    "        return \"<25m\"\n",
    "    elif revenue in rev_upto_1b:\n",
    "        return \"1b>r>25m\"\n",
    "    elif revenue in rev_higher_1b:\n",
    "        return \">1b\"\n",
    "    else:\n",
    "        return \"unknown\""
   ]
  },
  {
   "cell_type": "code",
   "execution_count": 17,
   "metadata": {},
   "outputs": [],
   "source": [
    "df['revenue'] = df['Revenue'].apply(lambda x: Getrevenue(x))"
   ]
  },
  {
   "cell_type": "code",
   "execution_count": 18,
   "metadata": {},
   "outputs": [
    {
     "data": {
      "text/plain": [
       "Company - Private                 410\n",
       "Company - Public                  193\n",
       "Nonprofit Organization             55\n",
       "Subsidiary or Business Segment     34\n",
       "Government                         15\n",
       "Hospital                           15\n",
       "College / University               13\n",
       "Other Organization                  5\n",
       "School / School District            2\n",
       "Name: Type of ownership, dtype: int64"
      ]
     },
     "execution_count": 18,
     "metadata": {},
     "output_type": "execute_result"
    }
   ],
   "source": [
    "df['Type of ownership'].value_counts()"
   ]
  },
  {
   "cell_type": "code",
   "execution_count": 19,
   "metadata": {},
   "outputs": [],
   "source": [
    "private_co=['Company - Private','Subsidiary or Business Segment','']\n",
    "public_co=['Company - Public','Government']\n",
    "other_co=['Nonprofit Organization','College / University','Other Organization','Hospital','School / School District']"
   ]
  },
  {
   "cell_type": "code",
   "execution_count": 20,
   "metadata": {},
   "outputs": [],
   "source": [
    "def Gettype(type):\n",
    "    if type in private_co:\n",
    "        return \"private\"\n",
    "    elif type in public_co:\n",
    "        return \"public\"\n",
    "    else:\n",
    "        return \"other\""
   ]
  },
  {
   "cell_type": "code",
   "execution_count": 21,
   "metadata": {},
   "outputs": [],
   "source": [
    "df['type'] = df['Type of ownership'].apply(lambda x: Gettype(x))"
   ]
  },
  {
   "cell_type": "code",
   "execution_count": 22,
   "metadata": {},
   "outputs": [
    {
     "data": {
      "text/plain": [
       "1001 - 5000      150\n",
       "501 - 1000       134\n",
       "10000+           130\n",
       "201 - 500        117\n",
       "51 - 200          94\n",
       "5001 - 10000      76\n",
       "1 - 50            31\n",
       "unknown           10\n",
       "Name: Size, dtype: int64"
      ]
     },
     "execution_count": 22,
     "metadata": {},
     "output_type": "execute_result"
    }
   ],
   "source": [
    "df['Size'].value_counts()"
   ]
  },
  {
   "cell_type": "code",
   "execution_count": 23,
   "metadata": {},
   "outputs": [
    {
     "data": {
      "text/plain": [
       "array(['501 - 1000 ', '10000+ ', '1001 - 5000 ', '51 - 200 ',\n",
       "       '201 - 500 ', '5001 - 10000 ', '1 - 50 ', 'unknown'], dtype=object)"
      ]
     },
     "execution_count": 23,
     "metadata": {},
     "output_type": "execute_result"
    }
   ],
   "source": [
    "df['Size'].unique()"
   ]
  },
  {
   "cell_type": "code",
   "execution_count": 24,
   "metadata": {},
   "outputs": [],
   "source": [
    "size_small=['1 - 50 ','51 - 200 ' ]\n",
    "size_med=['201 - 500 ', '501 - 1000 ']\n",
    "size_big=['1001 - 5000 ','5001 - 10000 ','10000+ ']\n",
    "size_un=['unknown']"
   ]
  },
  {
   "cell_type": "code",
   "execution_count": 25,
   "metadata": {},
   "outputs": [],
   "source": [
    "def Getsize(size):\n",
    "    if size in size_small:\n",
    "        return \"small\"\n",
    "    elif size in size_med:\n",
    "        return \"medium\"\n",
    "    elif size in size_big:\n",
    "        return \"big\"\n",
    "    else:\n",
    "        return \"unknown\""
   ]
  },
  {
   "cell_type": "code",
   "execution_count": 26,
   "metadata": {},
   "outputs": [],
   "source": [
    "df['size'] = df['Size'].apply(lambda x: Getsize(x))"
   ]
  },
  {
   "cell_type": "code",
   "execution_count": 27,
   "metadata": {},
   "outputs": [
    {
     "data": {
      "text/plain": [
       "Index(['index', 'Job Title', 'Salary Estimate', 'Job Description', 'Rating',\n",
       "       'Company Name', 'Location', 'Headquarters', 'Size', 'Founded',\n",
       "       'Type of ownership', 'Industry', 'Sector', 'Revenue', 'Competitors',\n",
       "       'Hourly', 'Employer provided', 'Lower Salary', 'Upper Salary',\n",
       "       'Avg Salary(K)', 'company_txt', 'Job Location', 'Age', 'Python',\n",
       "       'spark', 'aws', 'excel', 'sql', 'sas', 'keras', 'pytorch', 'scikit',\n",
       "       'tensor', 'hadoop', 'tableau', 'bi', 'flink', 'mongo', 'google_an',\n",
       "       'job_title_sim', 'seniority_by_title', 'Degree', 'job_title', 'sector',\n",
       "       'revenue', 'type', 'size'],\n",
       "      dtype='object')"
      ]
     },
     "execution_count": 27,
     "metadata": {},
     "output_type": "execute_result"
    }
   ],
   "source": [
    "df.columns"
   ]
  },
  {
   "cell_type": "markdown",
   "metadata": {},
   "source": [
    "Then we unite columns that refer to skills that a data person knows, to groups that usually are used by data scientist, analyst or big data person"
   ]
  },
  {
   "cell_type": "code",
   "execution_count": 28,
   "metadata": {},
   "outputs": [],
   "source": [
    "df['data_science']=df['Python']+df['aws']+df['keras']+df['pytorch']+df['scikit']+df['tensor']"
   ]
  },
  {
   "cell_type": "code",
   "execution_count": 29,
   "metadata": {},
   "outputs": [],
   "source": [
    "df['data_analysis']=df['excel']+df['sql']+df['tableau']+df['google_an']+df['bi']+df['sas']"
   ]
  },
  {
   "cell_type": "code",
   "execution_count": 30,
   "metadata": {},
   "outputs": [],
   "source": [
    "df['big_data']=df['hadoop']+df['spark']+df['mongo']+df['flink']"
   ]
  },
  {
   "cell_type": "markdown",
   "metadata": {},
   "source": [
    "After that we create also a new variable which represents the difference between upper and lower salary"
   ]
  },
  {
   "cell_type": "code",
   "execution_count": 31,
   "metadata": {},
   "outputs": [],
   "source": [
    "df['salary_diff']=df['Upper Salary']-df['Lower Salary']"
   ]
  },
  {
   "cell_type": "code",
   "execution_count": 32,
   "metadata": {},
   "outputs": [
    {
     "data": {
      "text/plain": [
       "Index(['index', 'Job Title', 'Salary Estimate', 'Job Description', 'Rating',\n",
       "       'Company Name', 'Location', 'Headquarters', 'Size', 'Founded',\n",
       "       'Type of ownership', 'Industry', 'Sector', 'Revenue', 'Competitors',\n",
       "       'Hourly', 'Employer provided', 'Lower Salary', 'Upper Salary',\n",
       "       'Avg Salary(K)', 'company_txt', 'Job Location', 'Age', 'Python',\n",
       "       'spark', 'aws', 'excel', 'sql', 'sas', 'keras', 'pytorch', 'scikit',\n",
       "       'tensor', 'hadoop', 'tableau', 'bi', 'flink', 'mongo', 'google_an',\n",
       "       'job_title_sim', 'seniority_by_title', 'Degree', 'job_title', 'sector',\n",
       "       'revenue', 'type', 'size', 'data_science', 'data_analysis', 'big_data',\n",
       "       'salary_diff'],\n",
       "      dtype='object')"
      ]
     },
     "execution_count": 32,
     "metadata": {},
     "output_type": "execute_result"
    }
   ],
   "source": [
    "df.columns"
   ]
  },
  {
   "cell_type": "code",
   "execution_count": 33,
   "metadata": {},
   "outputs": [],
   "source": [
    "df1=df[['Rating','Hourly','Employer provided','Age','Lower Salary', 'Upper Salary',\n",
    "       'Avg Salary(K)', 'seniority_by_title', 'Degree', 'salary_diff',\n",
    "        'data_analysis', 'job_title', 'sector',\n",
    "       'revenue', 'type', 'size', 'data_science', 'big_data']]"
   ]
  },
  {
   "cell_type": "code",
   "execution_count": 34,
   "metadata": {},
   "outputs": [
    {
     "data": {
      "text/html": [
       "<div>\n",
       "<style scoped>\n",
       "    .dataframe tbody tr th:only-of-type {\n",
       "        vertical-align: middle;\n",
       "    }\n",
       "\n",
       "    .dataframe tbody tr th {\n",
       "        vertical-align: top;\n",
       "    }\n",
       "\n",
       "    .dataframe thead th {\n",
       "        text-align: right;\n",
       "    }\n",
       "</style>\n",
       "<table border=\"1\" class=\"dataframe\">\n",
       "  <thead>\n",
       "    <tr style=\"text-align: right;\">\n",
       "      <th></th>\n",
       "      <th>Rating</th>\n",
       "      <th>Hourly</th>\n",
       "      <th>Employer provided</th>\n",
       "      <th>Age</th>\n",
       "      <th>Lower Salary</th>\n",
       "      <th>Upper Salary</th>\n",
       "      <th>Avg Salary(K)</th>\n",
       "      <th>seniority_by_title</th>\n",
       "      <th>Degree</th>\n",
       "      <th>salary_diff</th>\n",
       "      <th>data_analysis</th>\n",
       "      <th>job_title</th>\n",
       "      <th>sector</th>\n",
       "      <th>revenue</th>\n",
       "      <th>type</th>\n",
       "      <th>size</th>\n",
       "      <th>data_science</th>\n",
       "      <th>big_data</th>\n",
       "    </tr>\n",
       "  </thead>\n",
       "  <tbody>\n",
       "    <tr>\n",
       "      <th>0</th>\n",
       "      <td>3.8</td>\n",
       "      <td>0</td>\n",
       "      <td>0</td>\n",
       "      <td>48</td>\n",
       "      <td>53</td>\n",
       "      <td>91</td>\n",
       "      <td>72.0</td>\n",
       "      <td>na</td>\n",
       "      <td>M</td>\n",
       "      <td>38</td>\n",
       "      <td>4</td>\n",
       "      <td>data_scientist</td>\n",
       "      <td>aerospace_def_manufact</td>\n",
       "      <td>unknown</td>\n",
       "      <td>private</td>\n",
       "      <td>medium</td>\n",
       "      <td>1</td>\n",
       "      <td>0</td>\n",
       "    </tr>\n",
       "    <tr>\n",
       "      <th>1</th>\n",
       "      <td>3.4</td>\n",
       "      <td>0</td>\n",
       "      <td>0</td>\n",
       "      <td>37</td>\n",
       "      <td>63</td>\n",
       "      <td>112</td>\n",
       "      <td>87.5</td>\n",
       "      <td>na</td>\n",
       "      <td>M</td>\n",
       "      <td>49</td>\n",
       "      <td>0</td>\n",
       "      <td>data_scientist</td>\n",
       "      <td>health</td>\n",
       "      <td>&gt;1b</td>\n",
       "      <td>other</td>\n",
       "      <td>big</td>\n",
       "      <td>1</td>\n",
       "      <td>0</td>\n",
       "    </tr>\n",
       "    <tr>\n",
       "      <th>2</th>\n",
       "      <td>4.8</td>\n",
       "      <td>0</td>\n",
       "      <td>0</td>\n",
       "      <td>11</td>\n",
       "      <td>80</td>\n",
       "      <td>90</td>\n",
       "      <td>85.0</td>\n",
       "      <td>na</td>\n",
       "      <td>M</td>\n",
       "      <td>10</td>\n",
       "      <td>3</td>\n",
       "      <td>data_scientist</td>\n",
       "      <td>finance</td>\n",
       "      <td>1b&gt;r&gt;25m</td>\n",
       "      <td>private</td>\n",
       "      <td>medium</td>\n",
       "      <td>1</td>\n",
       "      <td>1</td>\n",
       "    </tr>\n",
       "    <tr>\n",
       "      <th>3</th>\n",
       "      <td>3.8</td>\n",
       "      <td>0</td>\n",
       "      <td>0</td>\n",
       "      <td>56</td>\n",
       "      <td>56</td>\n",
       "      <td>97</td>\n",
       "      <td>76.5</td>\n",
       "      <td>na</td>\n",
       "      <td>na</td>\n",
       "      <td>41</td>\n",
       "      <td>0</td>\n",
       "      <td>data_scientist</td>\n",
       "      <td>misceleneaous</td>\n",
       "      <td>1b&gt;r&gt;25m</td>\n",
       "      <td>public</td>\n",
       "      <td>big</td>\n",
       "      <td>1</td>\n",
       "      <td>0</td>\n",
       "    </tr>\n",
       "    <tr>\n",
       "      <th>4</th>\n",
       "      <td>2.9</td>\n",
       "      <td>0</td>\n",
       "      <td>0</td>\n",
       "      <td>23</td>\n",
       "      <td>86</td>\n",
       "      <td>143</td>\n",
       "      <td>114.5</td>\n",
       "      <td>na</td>\n",
       "      <td>na</td>\n",
       "      <td>57</td>\n",
       "      <td>3</td>\n",
       "      <td>data_scientist</td>\n",
       "      <td>finance</td>\n",
       "      <td>unknown</td>\n",
       "      <td>private</td>\n",
       "      <td>small</td>\n",
       "      <td>1</td>\n",
       "      <td>0</td>\n",
       "    </tr>\n",
       "  </tbody>\n",
       "</table>\n",
       "</div>"
      ],
      "text/plain": [
       "   Rating  Hourly  Employer provided  Age  Lower Salary  Upper Salary  \\\n",
       "0     3.8       0                  0   48            53            91   \n",
       "1     3.4       0                  0   37            63           112   \n",
       "2     4.8       0                  0   11            80            90   \n",
       "3     3.8       0                  0   56            56            97   \n",
       "4     2.9       0                  0   23            86           143   \n",
       "\n",
       "   Avg Salary(K) seniority_by_title Degree  salary_diff  data_analysis  \\\n",
       "0           72.0                 na      M           38              4   \n",
       "1           87.5                 na      M           49              0   \n",
       "2           85.0                 na      M           10              3   \n",
       "3           76.5                 na     na           41              0   \n",
       "4          114.5                 na     na           57              3   \n",
       "\n",
       "        job_title                  sector   revenue     type    size  \\\n",
       "0  data_scientist  aerospace_def_manufact   unknown  private  medium   \n",
       "1  data_scientist                  health       >1b    other     big   \n",
       "2  data_scientist                 finance  1b>r>25m  private  medium   \n",
       "3  data_scientist           misceleneaous  1b>r>25m   public     big   \n",
       "4  data_scientist                 finance   unknown  private   small   \n",
       "\n",
       "   data_science  big_data  \n",
       "0             1         0  \n",
       "1             1         0  \n",
       "2             1         1  \n",
       "3             1         0  \n",
       "4             1         0  "
      ]
     },
     "execution_count": 34,
     "metadata": {},
     "output_type": "execute_result"
    }
   ],
   "source": [
    "df1.head()"
   ]
  },
  {
   "cell_type": "markdown",
   "metadata": {},
   "source": [
    "Then we have some basic visuals"
   ]
  },
  {
   "cell_type": "code",
   "execution_count": 35,
   "metadata": {},
   "outputs": [],
   "source": [
    "import matplotlib as plt\n",
    "import seaborn as sns"
   ]
  },
  {
   "cell_type": "code",
   "execution_count": 36,
   "metadata": {},
   "outputs": [
    {
     "data": {
      "image/png": "[encoded data removed]",
      "text/plain": [
       "<Figure size 360x360 with 1 Axes>"
      ]
     },
     "metadata": {
      "needs_background": "light"
     },
     "output_type": "display_data"
    }
   ],
   "source": [
    "sns.displot(df['data_analysis']);"
   ]
  },
  {
   "cell_type": "code",
   "execution_count": 37,
   "metadata": {},
   "outputs": [
    {
     "data": {
      "image/png": "[encoded data removed]",
      "text/plain": [
       "<Figure size 360x360 with 1 Axes>"
      ]
     },
     "metadata": {
      "needs_background": "light"
     },
     "output_type": "display_data"
    }
   ],
   "source": [
    "sns.displot(df['data_science']);"
   ]
  },
  {
   "cell_type": "code",
   "execution_count": 38,
   "metadata": {},
   "outputs": [
    {
     "data": {
      "image/png": "[encoded data removed]",
      "text/plain": [
       "<Figure size 360x360 with 1 Axes>"
      ]
     },
     "metadata": {
      "needs_background": "light"
     },
     "output_type": "display_data"
    }
   ],
   "source": [
    "sns.displot(df['big_data']);"
   ]
  },
  {
   "cell_type": "code",
   "execution_count": 39,
   "metadata": {},
   "outputs": [
    {
     "data": {
      "image/png": "[encoded data removed]",
      "text/plain": [
       "<Figure size 360x360 with 1 Axes>"
      ]
     },
     "metadata": {
      "needs_background": "light"
     },
     "output_type": "display_data"
    }
   ],
   "source": [
    "sns.displot(df['Rating']);"
   ]
  },
  {
   "cell_type": "code",
   "execution_count": 40,
   "metadata": {},
   "outputs": [
    {
     "data": {
      "image/png": "[encoded data removed]",
      "text/plain": [
       "<Figure size 360x360 with 1 Axes>"
      ]
     },
     "metadata": {
      "needs_background": "light"
     },
     "output_type": "display_data"
    }
   ],
   "source": [
    "sns.displot(df['Hourly']);"
   ]
  },
  {
   "cell_type": "code",
   "execution_count": 41,
   "metadata": {},
   "outputs": [
    {
     "data": {
      "image/png": "[encoded data removed]",
      "text/plain": [
       "<Figure size 360x360 with 1 Axes>"
      ]
     },
     "metadata": {
      "needs_background": "light"
     },
     "output_type": "display_data"
    }
   ],
   "source": [
    "sns.displot(df['Employer provided']);"
   ]
  },
  {
   "cell_type": "code",
   "execution_count": 42,
   "metadata": {},
   "outputs": [
    {
     "data": {
      "image/png": "[encoded data removed]",
      "text/plain": [
       "<Figure size 360x360 with 1 Axes>"
      ]
     },
     "metadata": {
      "needs_background": "light"
     },
     "output_type": "display_data"
    }
   ],
   "source": [
    "sns.displot(df['Age']);"
   ]
  },
  {
   "cell_type": "code",
   "execution_count": 43,
   "metadata": {},
   "outputs": [
    {
     "data": {
      "image/png": "[encoded data removed]",
      "text/plain": [
       "<Figure size 360x360 with 1 Axes>"
      ]
     },
     "metadata": {
      "needs_background": "light"
     },
     "output_type": "display_data"
    }
   ],
   "source": [
    "sns.displot(df['Avg Salary(K)']);"
   ]
  },
  {
   "cell_type": "code",
   "execution_count": 44,
   "metadata": {},
   "outputs": [
    {
     "data": {
      "image/png": "[encoded data removed]",
      "text/plain": [
       "<Figure size 360x360 with 1 Axes>"
      ]
     },
     "metadata": {
      "needs_background": "light"
     },
     "output_type": "display_data"
    }
   ],
   "source": [
    "sns.displot(df['seniority_by_title']);"
   ]
  },
  {
   "cell_type": "code",
   "execution_count": 45,
   "metadata": {},
   "outputs": [
    {
     "data": {
      "text/plain": [
       "seniority_by_title\n",
       "jr     71.000000\n",
       "na     93.095376\n",
       "sr    121.690909\n",
       "Name: Avg Salary(K), dtype: float64"
      ]
     },
     "execution_count": 45,
     "metadata": {},
     "output_type": "execute_result"
    }
   ],
   "source": [
    "df1.groupby(['seniority_by_title'])['Avg Salary(K)'].mean()"
   ]
  },
  {
   "cell_type": "code",
   "execution_count": 46,
   "metadata": {},
   "outputs": [
    {
     "data": {
      "image/png": "[encoded data removed]",
      "text/plain": [
       "<Figure size 360x360 with 1 Axes>"
      ]
     },
     "metadata": {
      "needs_background": "light"
     },
     "output_type": "display_data"
    }
   ],
   "source": [
    "sns.displot(df['Degree']);"
   ]
  },
  {
   "cell_type": "markdown",
   "metadata": {},
   "source": [
    "after that we analyse via groupby how salaries are distributed to our main job titles having in mind other variables too(degree,sector, type, etc)"
   ]
  },
  {
   "cell_type": "code",
   "execution_count": 47,
   "metadata": {},
   "outputs": [
    {
     "data": {
      "text/plain": [
       "Degree\n",
       "M     105.634921\n",
       "P     115.981308\n",
       "na     94.703655\n",
       "Name: Avg Salary(K), dtype: float64"
      ]
     },
     "execution_count": 47,
     "metadata": {},
     "output_type": "execute_result"
    }
   ],
   "source": [
    "df1.groupby(['Degree'])['Avg Salary(K)'].mean()"
   ]
  },
  {
   "cell_type": "code",
   "execution_count": 48,
   "metadata": {},
   "outputs": [
    {
     "data": {
      "text/plain": [
       "job_title       Degree\n",
       "data_analyst    M          63.450000\n",
       "                na         67.443038\n",
       "data_engineer   M         101.737500\n",
       "                P         133.875000\n",
       "                na        106.765957\n",
       "data_scientist  M         117.847826\n",
       "                P         129.578947\n",
       "                na        115.613139\n",
       "unkown          M          99.636364\n",
       "                P         103.149123\n",
       "                na         69.431507\n",
       "Name: Avg Salary(K), dtype: float64"
      ]
     },
     "execution_count": 48,
     "metadata": {},
     "output_type": "execute_result"
    }
   ],
   "source": [
    "df1.groupby(['job_title','Degree'])['Avg Salary(K)'].mean()"
   ]
  },
  {
   "cell_type": "code",
   "execution_count": 49,
   "metadata": {},
   "outputs": [
    {
     "data": {
      "text/plain": [
       "job_title\n",
       "data_analyst       66.344037\n",
       "data_engineer     107.616438\n",
       "data_scientist    118.293930\n",
       "unkown             88.114943\n",
       "Name: Avg Salary(K), dtype: float64"
      ]
     },
     "execution_count": 49,
     "metadata": {},
     "output_type": "execute_result"
    }
   ],
   "source": [
    "df1.groupby(['job_title'])['Avg Salary(K)'].mean()"
   ]
  },
  {
   "cell_type": "code",
   "execution_count": 50,
   "metadata": {},
   "outputs": [
    {
     "data": {
      "text/plain": [
       "type\n",
       "other       77.466667\n",
       "private    102.731982\n",
       "public     109.213942\n",
       "Name: Avg Salary(K), dtype: float64"
      ]
     },
     "execution_count": 50,
     "metadata": {},
     "output_type": "execute_result"
    }
   ],
   "source": [
    "df1.groupby(['type'])['Avg Salary(K)'].mean()"
   ]
  },
  {
   "cell_type": "code",
   "execution_count": 51,
   "metadata": {},
   "outputs": [
    {
     "data": {
      "text/plain": [
       "type     job_title     \n",
       "other    data_analyst       59.964286\n",
       "         data_engineer     108.600000\n",
       "         data_scientist     91.558824\n",
       "         unkown             66.977273\n",
       "private  data_analyst       66.583333\n",
       "         data_engineer     107.985000\n",
       "         data_scientist    121.245946\n",
       "         unkown             87.241379\n",
       "public   data_analyst       69.478261\n",
       "         data_engineer     105.951613\n",
       "         data_scientist    117.468468\n",
       "         unkown            111.511628\n",
       "Name: Avg Salary(K), dtype: float64"
      ]
     },
     "execution_count": 51,
     "metadata": {},
     "output_type": "execute_result"
    }
   ],
   "source": [
    "df1.groupby(['type','job_title'])['Avg Salary(K)'].mean()"
   ]
  },
  {
   "cell_type": "code",
   "execution_count": 52,
   "metadata": {},
   "outputs": [
    {
     "data": {
      "text/plain": [
       "size\n",
       "big        101.901685\n",
       "medium      95.579681\n",
       "small      110.108000\n",
       "unknown    127.050000\n",
       "Name: Avg Salary(K), dtype: float64"
      ]
     },
     "execution_count": 52,
     "metadata": {},
     "output_type": "execute_result"
    }
   ],
   "source": [
    "df1.groupby(['size'])['Avg Salary(K)'].mean()"
   ]
  },
  {
   "cell_type": "code",
   "execution_count": 53,
   "metadata": {},
   "outputs": [
    {
     "data": {
      "text/plain": [
       "sector\n",
       "aerospace_def_manufact    96.0\n",
       "finance                   96.5\n",
       "health                    94.5\n",
       "misceleneaous             98.5\n",
       "Name: Avg Salary(K), dtype: float64"
      ]
     },
     "execution_count": 53,
     "metadata": {},
     "output_type": "execute_result"
    }
   ],
   "source": [
    "df1.groupby(['sector'])['Avg Salary(K)'].median()"
   ]
  },
  {
   "cell_type": "code",
   "execution_count": 54,
   "metadata": {},
   "outputs": [
    {
     "data": {
      "text/plain": [
       "job_title       sector                \n",
       "data_analyst    aerospace_def_manufact     60.500000\n",
       "                finance                    65.764706\n",
       "                health                     72.000000\n",
       "                misceleneaous              66.588710\n",
       "data_engineer   aerospace_def_manufact     96.000000\n",
       "                finance                    94.443182\n",
       "                health                    109.468750\n",
       "                misceleneaous             115.362500\n",
       "data_scientist  aerospace_def_manufact    106.657895\n",
       "                finance                   118.771028\n",
       "                health                    123.444444\n",
       "                misceleneaous             117.859155\n",
       "unkown          aerospace_def_manufact     84.589286\n",
       "                finance                    79.916667\n",
       "                health                     91.645161\n",
       "                misceleneaous              86.982759\n",
       "Name: Avg Salary(K), dtype: float64"
      ]
     },
     "execution_count": 54,
     "metadata": {},
     "output_type": "execute_result"
    }
   ],
   "source": [
    "df1.groupby(['job_title','sector'])['Avg Salary(K)'].mean()"
   ]
  },
  {
   "cell_type": "code",
   "execution_count": 55,
   "metadata": {},
   "outputs": [
    {
     "data": {
      "text/plain": [
       "revenue\n",
       "1b>r>25m     85.710106\n",
       "<25m        121.966667\n",
       ">1b         107.923554\n",
       "unknown     104.296099\n",
       "Name: Avg Salary(K), dtype: float64"
      ]
     },
     "execution_count": 55,
     "metadata": {},
     "output_type": "execute_result"
    }
   ],
   "source": [
    "df1.groupby(['revenue'])['Avg Salary(K)'].mean()"
   ]
  },
  {
   "cell_type": "code",
   "execution_count": 56,
   "metadata": {},
   "outputs": [
    {
     "data": {
      "text/plain": [
       "job_title       revenue \n",
       "data_analyst    1b>r>25m     61.423077\n",
       "                >1b          67.058824\n",
       "                unknown      71.000000\n",
       "data_engineer   1b>r>25m     97.808824\n",
       "                <25m         94.750000\n",
       "                >1b         102.750000\n",
       "                unknown     115.054054\n",
       "data_scientist  1b>r>25m    101.629032\n",
       "                <25m        133.421053\n",
       "                >1b         120.914634\n",
       "                unknown     122.178899\n",
       "unkown          1b>r>25m     77.198113\n",
       "                <25m        106.428571\n",
       "                >1b         107.284314\n",
       "                unknown      79.746032\n",
       "Name: Avg Salary(K), dtype: float64"
      ]
     },
     "execution_count": 56,
     "metadata": {},
     "output_type": "execute_result"
    }
   ],
   "source": [
    "df1.groupby(['job_title','revenue'])['Avg Salary(K)'].mean()"
   ]
  },
  {
   "cell_type": "markdown",
   "metadata": {},
   "source": [
    "we have a clear view of the salaries distribution as data scientists gain more, then data engineers and then data analysts. We explored how this is further differentiated as postgraduate degree is important factor to gain more, private sector, especially health and finance seem to give an extra advantage"
   ]
  },
  {
   "cell_type": "code",
   "execution_count": 57,
   "metadata": {},
   "outputs": [
    {
     "data": {
      "text/plain": [
       "job_title\n",
       "data_analyst      37.238532\n",
       "data_engineer     60.000000\n",
       "data_scientist    56.370607\n",
       "unkown            52.896552\n",
       "Name: salary_diff, dtype: float64"
      ]
     },
     "execution_count": 57,
     "metadata": {},
     "output_type": "execute_result"
    }
   ],
   "source": [
    "df1.groupby(['job_title'])['salary_diff'].mean()"
   ]
  },
  {
   "cell_type": "markdown",
   "metadata": {},
   "source": [
    "salary differential did not come as a surprise data analysts are paid less generally, so differential as a percentage of mean salary is about 50%, not that this is equal to all but there are no big differential amongst them"
   ]
  },
  {
   "cell_type": "code",
   "execution_count": 58,
   "metadata": {},
   "outputs": [
    {
     "data": {
      "text/plain": [
       "job_title\n",
       "data_analyst      109\n",
       "data_engineer     146\n",
       "data_scientist    313\n",
       "unkown            174\n",
       "Name: Hourly, dtype: int64"
      ]
     },
     "execution_count": 58,
     "metadata": {},
     "output_type": "execute_result"
    }
   ],
   "source": [
    "df1.groupby('job_title')['Hourly'].count()"
   ]
  },
  {
   "cell_type": "markdown",
   "metadata": {},
   "source": [
    "we see that most are data scientists"
   ]
  },
  {
   "cell_type": "markdown",
   "metadata": {},
   "source": [
    "then we go on and compare the skills we grouped to the job titles and it seems we have split them correctly as data analysts have to highest score in data analysis skills etc"
   ]
  },
  {
   "cell_type": "code",
   "execution_count": 76,
   "metadata": {},
   "outputs": [
    {
     "data": {
      "text/plain": [
       "2.2660550458715596"
      ]
     },
     "execution_count": 76,
     "metadata": {},
     "output_type": "execute_result"
    }
   ],
   "source": [
    "df1[df1['job_title']=='data_analyst']['data_analysis'].mean()"
   ]
  },
  {
   "cell_type": "code",
   "execution_count": 62,
   "metadata": {},
   "outputs": [
    {
     "data": {
      "text/plain": [
       "1.5591054313099042"
      ]
     },
     "execution_count": 62,
     "metadata": {},
     "output_type": "execute_result"
    }
   ],
   "source": [
    "df1[df1['job_title']=='data_scientist']['data_analysis'].mean()"
   ]
  },
  {
   "cell_type": "code",
   "execution_count": 63,
   "metadata": {},
   "outputs": [
    {
     "data": {
      "text/plain": [
       "1.273972602739726"
      ]
     },
     "execution_count": 63,
     "metadata": {},
     "output_type": "execute_result"
    }
   ],
   "source": [
    "df1[df1['job_title']=='data_engineer']['data_analysis'].mean()"
   ]
  },
  {
   "cell_type": "code",
   "execution_count": 64,
   "metadata": {},
   "outputs": [
    {
     "data": {
      "text/plain": [
       "1.5591054313099042"
      ]
     },
     "execution_count": 64,
     "metadata": {},
     "output_type": "execute_result"
    }
   ],
   "source": [
    "df1[df1['job_title']=='data_scientist']['data_science'].mean()"
   ]
  },
  {
   "cell_type": "code",
   "execution_count": 66,
   "metadata": {},
   "outputs": [
    {
     "data": {
      "text/plain": [
       "1.2808219178082192"
      ]
     },
     "execution_count": 66,
     "metadata": {},
     "output_type": "execute_result"
    }
   ],
   "source": [
    "df1[df1['job_title']=='data_engineer']['data_science'].mean()"
   ]
  },
  {
   "cell_type": "code",
   "execution_count": 67,
   "metadata": {},
   "outputs": [
    {
     "data": {
      "text/plain": [
       "0.42201834862385323"
      ]
     },
     "execution_count": 67,
     "metadata": {},
     "output_type": "execute_result"
    }
   ],
   "source": [
    "df1[df1['job_title']=='data_analyst']['data_science'].mean()"
   ]
  },
  {
   "cell_type": "code",
   "execution_count": 68,
   "metadata": {},
   "outputs": [
    {
     "data": {
      "text/plain": [
       "0.11009174311926606"
      ]
     },
     "execution_count": 68,
     "metadata": {},
     "output_type": "execute_result"
    }
   ],
   "source": [
    "df1[df1['job_title']=='data_analyst']['big_data'].mean()"
   ]
  },
  {
   "cell_type": "code",
   "execution_count": 69,
   "metadata": {},
   "outputs": [
    {
     "data": {
      "text/plain": [
       "1.0"
      ]
     },
     "execution_count": 69,
     "metadata": {},
     "output_type": "execute_result"
    }
   ],
   "source": [
    "df1[df1['job_title']=='data_engineer']['big_data'].mean()"
   ]
  },
  {
   "cell_type": "code",
   "execution_count": 70,
   "metadata": {},
   "outputs": [
    {
     "data": {
      "text/plain": [
       "0.5335463258785943"
      ]
     },
     "execution_count": 70,
     "metadata": {},
     "output_type": "execute_result"
    }
   ],
   "source": [
    "df1[df1['job_title']=='data_scientist']['big_data'].mean()"
   ]
  },
  {
   "cell_type": "code",
   "execution_count": 75,
   "metadata": {},
   "outputs": [
    {
     "data": {
      "text/plain": [
       "data_analysis\n",
       "0     96.332402\n",
       "1    110.069343\n",
       "2     96.878472\n",
       "3     96.473958\n",
       "4    100.244186\n",
       "5     62.750000\n",
       "Name: Avg Salary(K), dtype: float64"
      ]
     },
     "execution_count": 75,
     "metadata": {},
     "output_type": "execute_result"
    }
   ],
   "source": [
    "df1.groupby('data_analysis')['Avg Salary(K)'].mean()"
   ]
  },
  {
   "cell_type": "code",
   "execution_count": 72,
   "metadata": {},
   "outputs": [
    {
     "data": {
      "text/plain": [
       "data_science\n",
       "0     85.853448\n",
       "1    108.382022\n",
       "2    112.772358\n",
       "3    126.022727\n",
       "4    115.895833\n",
       "5    123.833333\n",
       "6    132.357143\n",
       "Name: Avg Salary(K), dtype: float64"
      ]
     },
     "execution_count": 72,
     "metadata": {},
     "output_type": "execute_result"
    }
   ],
   "source": [
    "df1.groupby('data_science')['Avg Salary(K)'].mean()"
   ]
  },
  {
   "cell_type": "code",
   "execution_count": 73,
   "metadata": {},
   "outputs": [
    {
     "data": {
      "text/plain": [
       "big_data\n",
       "0     97.189394\n",
       "1    111.223684\n",
       "2    112.220779\n",
       "3    113.090909\n",
       "4    177.000000\n",
       "Name: Avg Salary(K), dtype: float64"
      ]
     },
     "execution_count": 73,
     "metadata": {},
     "output_type": "execute_result"
    }
   ],
   "source": [
    "df1.groupby('big_data')['Avg Salary(K)'].mean()"
   ]
  },
  {
   "cell_type": "markdown",
   "metadata": {},
   "source": [
    "more skills are paid more for data scientist or big data , but data analysts may not need to add many skills(this is not always true of course) if they know 2 skills for example well, and pay rise there stops"
   ]
  },
  {
   "cell_type": "code",
   "execution_count": 74,
   "metadata": {},
   "outputs": [],
   "source": [
    "X=df1[['Rating','Hourly','Employer provided','Age', 'seniority_by_title', 'Degree', 'salary_diff',\n",
    "        'data_analyst', 'job_title', 'sector',\n",
    "       'revenue', 'type',  'data_scientist', 'big_data']]"
   ]
  },
  {
   "cell_type": "code",
   "execution_count": 55,
   "metadata": {},
   "outputs": [],
   "source": [
    "X=df1[['Rating','Hourly','Employer provided','Age', 'seniority_by_title', 'Degree', \n",
    "        'job_title', 'sector','revenue', 'type']]"
   ]
  },
  {
   "cell_type": "code",
   "execution_count": 77,
   "metadata": {},
   "outputs": [],
   "source": [
    "X=df1[['Rating','Hourly','Employer provided','Age', 'seniority_by_title', 'Degree', 'big_data','data_science','data_analysis',\n",
    "        'job_title', 'sector','revenue', 'type']]"
   ]
  },
  {
   "cell_type": "code",
   "execution_count": 78,
   "metadata": {},
   "outputs": [],
   "source": [
    "y=df1['Avg Salary(K)']"
   ]
  },
  {
   "cell_type": "markdown",
   "metadata": {},
   "source": [
    "then we go on and explore 3 cases of regressions and wee have their results with linear and polynomial regression"
   ]
  },
  {
   "cell_type": "code",
   "execution_count": 79,
   "metadata": {},
   "outputs": [],
   "source": [
    "X = pd.get_dummies(X, drop_first=True)"
   ]
  },
  {
   "cell_type": "code",
   "execution_count": 80,
   "metadata": {},
   "outputs": [],
   "source": [
    "from sklearn.preprocessing import MinMaxScaler\n",
    "\n",
    "scaler = MinMaxScaler(feature_range = (0,1))"
   ]
  },
  {
   "cell_type": "code",
   "execution_count": 81,
   "metadata": {},
   "outputs": [],
   "source": [
    "from sklearn.linear_model import LinearRegression"
   ]
  },
  {
   "cell_type": "code",
   "execution_count": 82,
   "metadata": {},
   "outputs": [],
   "source": [
    "lr=LinearRegression()"
   ]
  },
  {
   "cell_type": "code",
   "execution_count": 83,
   "metadata": {},
   "outputs": [],
   "source": [
    "from sklearn.model_selection import train_test_split"
   ]
  },
  {
   "cell_type": "code",
   "execution_count": 84,
   "metadata": {},
   "outputs": [],
   "source": [
    "X_train, X_test, y_train, y_test = train_test_split(X, y, test_size=.20, random_state=1)"
   ]
  },
  {
   "cell_type": "code",
   "execution_count": 85,
   "metadata": {},
   "outputs": [],
   "source": [
    "scaler.fit(X_train)\n",
    "X_train = scaler.fit_transform(X_train)\n",
    "X_test = scaler.transform(X_test)"
   ]
  },
  {
   "cell_type": "code",
   "execution_count": 86,
   "metadata": {},
   "outputs": [
    {
     "data": {
      "text/plain": [
       "LinearRegression()"
      ]
     },
     "execution_count": 86,
     "metadata": {},
     "output_type": "execute_result"
    }
   ],
   "source": [
    "lr.fit(X,y)"
   ]
  },
  {
   "cell_type": "code",
   "execution_count": 87,
   "metadata": {},
   "outputs": [
    {
     "name": "stderr",
     "output_type": "stream",
     "text": [
      "C:\\Users\\vasia\\AppData\\Roaming\\Python\\Python38\\site-packages\\sklearn\\base.py:450: UserWarning: X does not have valid feature names, but LinearRegression was fitted with feature names\n",
      "  warnings.warn(\n"
     ]
    }
   ],
   "source": [
    "lr_pred=lr.predict(X_test)"
   ]
  },
  {
   "cell_type": "code",
   "execution_count": 85,
   "metadata": {},
   "outputs": [
    {
     "data": {
      "text/plain": [
       "0.762194101052315"
      ]
     },
     "execution_count": 85,
     "metadata": {},
     "output_type": "execute_result"
    }
   ],
   "source": [
    "lr.score(X,y)"
   ]
  },
  {
   "cell_type": "code",
   "execution_count": 66,
   "metadata": {},
   "outputs": [
    {
     "data": {
      "text/plain": [
       "0.4418942366136539"
      ]
     },
     "execution_count": 66,
     "metadata": {},
     "output_type": "execute_result"
    }
   ],
   "source": [
    "lr.score(X,y)"
   ]
  },
  {
   "cell_type": "code",
   "execution_count": 88,
   "metadata": {},
   "outputs": [
    {
     "data": {
      "text/plain": [
       "0.4497444446676846"
      ]
     },
     "execution_count": 88,
     "metadata": {},
     "output_type": "execute_result"
    }
   ],
   "source": [
    "lr.score(X,y)"
   ]
  },
  {
   "cell_type": "code",
   "execution_count": 90,
   "metadata": {},
   "outputs": [],
   "source": [
    "import statsmodels.api as sm"
   ]
  },
  {
   "cell_type": "code",
   "execution_count": 68,
   "metadata": {},
   "outputs": [
    {
     "name": "stdout",
     "output_type": "stream",
     "text": [
      "                            OLS Regression Results                            \n",
      "==============================================================================\n",
      "Dep. Variable:          Avg Salary(K)   R-squared:                       0.442\n",
      "Model:                            OLS   Adj. R-squared:                  0.427\n",
      "Method:                 Least Squares   F-statistic:                     30.09\n",
      "Date:                Mon, 23 May 2022   Prob (F-statistic):           1.88e-78\n",
      "Time:                        22:29:46   Log-Likelihood:                -3524.9\n",
      "No. Observations:                 742   AIC:                             7090.\n",
      "Df Residuals:                     722   BIC:                             7182.\n",
      "Df Model:                          19                                         \n",
      "Covariance Type:            nonrobust                                         \n",
      "============================================================================================\n",
      "                               coef    std err          t      P>|t|      [0.025      0.975]\n",
      "--------------------------------------------------------------------------------------------\n",
      "const                       31.1416     18.072      1.723      0.085      -4.338      66.621\n",
      "Rating                       1.0596      1.560      0.679      0.497      -2.003       4.122\n",
      "Hourly                     -24.6101      6.889     -3.573      0.000     -38.134     -11.086\n",
      "Employer provided           23.7338      8.492      2.795      0.005       7.063      40.405\n",
      "Age                          0.0412      0.026      1.613      0.107      -0.009       0.091\n",
      "seniority_by_title_na       -0.8451     16.672     -0.051      0.960     -33.577      31.887\n",
      "seniority_by_title_sr       21.9332     16.749      1.309      0.191     -10.950      54.817\n",
      "Degree_P                    12.0521      3.641      3.310      0.001       4.904      19.200\n",
      "Degree_na                   -0.1674      2.479     -0.068      0.946      -5.035       4.700\n",
      "job_title_data_engineer     36.1290      3.654      9.887      0.000      28.955      43.303\n",
      "job_title_data_scientist    44.2994      3.317     13.356      0.000      37.788      50.811\n",
      "job_title_unkown            17.7133      4.128      4.291      0.000       9.608      25.819\n",
      "sector_finance               2.1070      4.435      0.475      0.635      -6.600      10.814\n",
      "sector_health                8.5468      4.640      1.842      0.066      -0.563      17.657\n",
      "sector_misceleneaous         6.6171      4.468      1.481      0.139      -2.154      15.388\n",
      "revenue_<25m                19.3587      5.773      3.353      0.001       8.025      30.692\n",
      "revenue_>1b                 10.0736      3.227      3.122      0.002       3.738      16.409\n",
      "revenue_unknown             11.4371      2.772      4.126      0.000       5.996      16.879\n",
      "type_private                15.6977      3.689      4.255      0.000       8.455      22.941\n",
      "type_public                 15.1371      4.080      3.710      0.000       7.127      23.147\n",
      "==============================================================================\n",
      "Omnibus:                      160.445   Durbin-Watson:                   2.024\n",
      "Prob(Omnibus):                  0.000   Jarque-Bera (JB):              418.852\n",
      "Skew:                           1.100   Prob(JB):                     1.12e-91\n",
      "Kurtosis:                       5.950   Cond. No.                     2.00e+03\n",
      "==============================================================================\n",
      "\n",
      "Notes:\n",
      "[1] Standard Errors assume that the covariance matrix of the errors is correctly specified.\n",
      "[2] The condition number is large,  2e+03. This might indicate that there are\n",
      "strong multicollinearity or other numerical problems.\n"
     ]
    }
   ],
   "source": [
    "X = sm.add_constant(X) # adding a constant\n",
    "\n",
    "model = sm.OLS(y, X).fit()\n",
    "predictions = model.predict(X) \n",
    "\n",
    "print(model.summary())"
   ]
  },
  {
   "cell_type": "code",
   "execution_count": 54,
   "metadata": {},
   "outputs": [
    {
     "name": "stdout",
     "output_type": "stream",
     "text": [
      "                            OLS Regression Results                            \n",
      "==============================================================================\n",
      "Dep. Variable:          Avg Salary(K)   R-squared:                       0.761\n",
      "Model:                            OLS   Adj. R-squared:                  0.755\n",
      "Method:                 Least Squares   F-statistic:                     115.1\n",
      "Date:                Mon, 23 May 2022   Prob (F-statistic):          1.07e-208\n",
      "Time:                        22:29:14   Log-Likelihood:                -3209.5\n",
      "No. Observations:                 742   AIC:                             6461.\n",
      "Df Residuals:                     721   BIC:                             6558.\n",
      "Df Model:                          20                                         \n",
      "Covariance Type:            nonrobust                                         \n",
      "============================================================================================\n",
      "                               coef    std err          t      P>|t|      [0.025      0.975]\n",
      "--------------------------------------------------------------------------------------------\n",
      "const                       -2.4072     11.871     -0.203      0.839     -25.713      20.899\n",
      "Rating                       1.4727      1.021      1.443      0.149      -0.531       3.476\n",
      "Hourly                       8.2991      4.629      1.793      0.073      -0.789      17.387\n",
      "Employer provided           73.2301      5.779     12.673      0.000      61.885      84.575\n",
      "Age                          0.0145      0.017      0.868      0.386      -0.018       0.047\n",
      "salary_diff                  1.4304      0.046     31.083      0.000       1.340       1.521\n",
      "seniority_by_title_na        0.6008     10.906      0.055      0.956     -20.811      22.013\n",
      "seniority_by_title_sr       11.4776     10.962      1.047      0.295     -10.044      32.999\n",
      "Degree_P                    -2.0358      2.425     -0.840      0.401      -6.796       2.724\n",
      "Degree_na                    0.9669      1.622      0.596      0.551      -2.218       4.152\n",
      "job_title_data_engineer      7.0173      2.567      2.733      0.006       1.977      12.058\n",
      "job_title_data_scientist    22.1093      2.284      9.679      0.000      17.625      26.594\n",
      "job_title_unkown            -5.8332      2.805     -2.080      0.038     -11.340      -0.326\n",
      "sector_finance              -2.8330      2.905     -0.975      0.330      -8.537       2.871\n",
      "sector_health                0.4908      3.046      0.161      0.872      -5.490       6.472\n",
      "sector_misceleneaous         0.2019      2.930      0.069      0.945      -5.550       5.954\n",
      "revenue_<25m                 4.8910      3.805      1.285      0.199      -2.579      12.361\n",
      "revenue_>1b                  3.6546      2.121      1.723      0.085      -0.510       7.819\n",
      "revenue_unknown              5.2352      1.824      2.870      0.004       1.654       8.816\n",
      "type_private                 3.7383      2.444      1.530      0.127      -1.060       8.536\n",
      "type_public                  3.8432      2.694      1.427      0.154      -1.445       9.131\n",
      "==============================================================================\n",
      "Omnibus:                      374.885   Durbin-Watson:                   1.949\n",
      "Prob(Omnibus):                  0.000   Jarque-Bera (JB):             5587.499\n",
      "Skew:                           1.899   Prob(JB):                         0.00\n",
      "Kurtosis:                      15.896   Cond. No.                     2.33e+03\n",
      "==============================================================================\n",
      "\n",
      "Notes:\n",
      "[1] Standard Errors assume that the covariance matrix of the errors is correctly specified.\n",
      "[2] The condition number is large, 2.33e+03. This might indicate that there are\n",
      "strong multicollinearity or other numerical problems.\n"
     ]
    }
   ],
   "source": [
    "X = sm.add_constant(X) # adding a constant\n",
    "\n",
    "model = sm.OLS(y, X).fit()\n",
    "predictions = model.predict(X) \n",
    "\n",
    "print(model.summary())"
   ]
  },
  {
   "cell_type": "code",
   "execution_count": 91,
   "metadata": {},
   "outputs": [
    {
     "name": "stdout",
     "output_type": "stream",
     "text": [
      "                            OLS Regression Results                            \n",
      "==============================================================================\n",
      "Dep. Variable:          Avg Salary(K)   R-squared:                       0.450\n",
      "Model:                            OLS   Adj. R-squared:                  0.433\n",
      "Method:                 Least Squares   F-statistic:                     26.71\n",
      "Date:                Tue, 24 May 2022   Prob (F-statistic):           2.19e-78\n",
      "Time:                        09:38:02   Log-Likelihood:                -3519.6\n",
      "No. Observations:                 742   AIC:                             7085.\n",
      "Df Residuals:                     719   BIC:                             7191.\n",
      "Df Model:                          22                                         \n",
      "Covariance Type:            nonrobust                                         \n",
      "============================================================================================\n",
      "                               coef    std err          t      P>|t|      [0.025      0.975]\n",
      "--------------------------------------------------------------------------------------------\n",
      "const                       30.6174     18.359      1.668      0.096      -5.426      66.661\n",
      "Rating                       0.7345      1.559      0.471      0.638      -2.327       3.796\n",
      "Hourly                     -24.2329      6.899     -3.513      0.000     -37.776     -10.689\n",
      "Employer provided           24.8125      8.460      2.933      0.003       8.203      41.422\n",
      "Age                          0.0444      0.026      1.740      0.082      -0.006       0.095\n",
      "big_data                     1.0118      1.526      0.663      0.508      -1.984       4.008\n",
      "data_science                 2.9507      1.054      2.800      0.005       0.882       5.019\n",
      "data_analysis                0.4480      1.002      0.447      0.655      -1.519       2.415\n",
      "seniority_by_title_na       -0.6895     16.663     -0.041      0.967     -33.404      32.025\n",
      "seniority_by_title_sr       21.9598     16.762      1.310      0.191     -10.949      54.869\n",
      "Degree_P                    11.7330      3.683      3.186      0.002       4.503      18.963\n",
      "Degree_na                   -0.4860      2.480     -0.196      0.845      -5.355       4.383\n",
      "job_title_data_engineer     33.1804      4.061      8.170      0.000      25.207      41.153\n",
      "job_title_data_scientist    40.7873      3.586     11.373      0.000      33.746      47.829\n",
      "job_title_unkown            18.2626      4.270      4.277      0.000       9.879      26.646\n",
      "sector_finance               1.7542      4.461      0.393      0.694      -7.005      10.513\n",
      "sector_health                8.8020      4.621      1.905      0.057      -0.270      17.874\n",
      "sector_misceleneaous         6.0314      4.464      1.351      0.177      -2.732      14.795\n",
      "revenue_<25m                18.6332      5.783      3.222      0.001       7.280      29.987\n",
      "revenue_>1b                 10.1900      3.243      3.142      0.002       3.824      16.556\n",
      "revenue_unknown             11.5434      2.761      4.181      0.000       6.123      16.964\n",
      "type_private                15.3298      3.694      4.150      0.000       8.077      22.583\n",
      "type_public                 14.6753      4.077      3.599      0.000       6.670      22.680\n",
      "==============================================================================\n",
      "Omnibus:                      176.269   Durbin-Watson:                   2.015\n",
      "Prob(Omnibus):                  0.000   Jarque-Bera (JB):              490.890\n",
      "Skew:                           1.181   Prob(JB):                    2.54e-107\n",
      "Kurtosis:                       6.209   Cond. No.                     2.02e+03\n",
      "==============================================================================\n",
      "\n",
      "Notes:\n",
      "[1] Standard Errors assume that the covariance matrix of the errors is correctly specified.\n",
      "[2] The condition number is large, 2.02e+03. This might indicate that there are\n",
      "strong multicollinearity or other numerical problems.\n"
     ]
    }
   ],
   "source": [
    "X = sm.add_constant(X) # adding a constant\n",
    "\n",
    "model = sm.OLS(y, X).fit()\n",
    "predictions = model.predict(X) \n",
    "\n",
    "print(model.summary())"
   ]
  },
  {
   "cell_type": "code",
   "execution_count": 88,
   "metadata": {},
   "outputs": [
    {
     "name": "stdout",
     "output_type": "stream",
     "text": [
      "0.9964951848172398\n"
     ]
    }
   ],
   "source": [
    "from sklearn.preprocessing import PolynomialFeatures\n",
    "from sklearn import linear_model\n",
    "\n",
    "poly = PolynomialFeatures(degree=3, interaction_only=True)\n",
    "X_train5 = poly.fit_transform(X_train)\n",
    "X_test5 = poly.fit_transform(X_test)\n",
    "\n",
    "poly_clf = linear_model.LinearRegression()\n",
    "\n",
    "poly_clf.fit(X_train5, y_train)\n",
    "\n",
    "y_pred = poly_clf.predict(X_test5)\n",
    "\n",
    "print(poly_clf.score(X_train5, y_train))"
   ]
  },
  {
   "cell_type": "code",
   "execution_count": 72,
   "metadata": {},
   "outputs": [
    {
     "name": "stdout",
     "output_type": "stream",
     "text": [
      "0.7853170772561837\n"
     ]
    }
   ],
   "source": [
    "from sklearn.preprocessing import PolynomialFeatures\n",
    "from sklearn import linear_model\n",
    "\n",
    "poly = PolynomialFeatures(degree=3, interaction_only=True)\n",
    "X_train5 = poly.fit_transform(X_train)\n",
    "X_test5 = poly.fit_transform(X_test)\n",
    "\n",
    "poly_clf = linear_model.LinearRegression()\n",
    "\n",
    "poly_clf.fit(X_train5, y_train)\n",
    "\n",
    "y_pred = poly_clf.predict(X_test5)\n",
    "\n",
    "print(poly_clf.score(X_train5, y_train))"
   ]
  },
  {
   "cell_type": "code",
   "execution_count": 92,
   "metadata": {},
   "outputs": [
    {
     "name": "stdout",
     "output_type": "stream",
     "text": [
      "0.9951811978993723\n"
     ]
    }
   ],
   "source": [
    "from sklearn.preprocessing import PolynomialFeatures\n",
    "from sklearn import linear_model\n",
    "\n",
    "poly = PolynomialFeatures(degree=3, interaction_only=True)\n",
    "X_train5 = poly.fit_transform(X_train)\n",
    "X_test5 = poly.fit_transform(X_test)\n",
    "\n",
    "poly_clf = linear_model.LinearRegression()\n",
    "\n",
    "poly_clf.fit(X_train5, y_train)\n",
    "\n",
    "y_pred = poly_clf.predict(X_test5)\n",
    "\n",
    "print(poly_clf.score(X_train5, y_train))"
   ]
  },
  {
   "cell_type": "markdown",
   "metadata": {},
   "source": [
    "we see that especially with polynomial regression we go as far as 99.5% which is excelent score, even in the third case when we moved out lower and upper bounds of salary, which might reveal partly salary, but added skills in"
   ]
  },
  {
   "cell_type": "markdown",
   "metadata": {},
   "source": [
    "so, it is obvious with good feature engineering, one can get excelent model results and very good explanation of the dataset, not always, but certainly can happen as it happened in this case"
   ]
  },
  {
   "cell_type": "code",
   "execution_count": null,
   "metadata": {},
   "outputs": [],
   "source": []
  }
 ],
 "metadata": {
  "kernelspec": {
   "display_name": "Python 3",
   "language": "python",
   "name": "python3"
  },
  "language_info": {
   "codemirror_mode": {
    "name": "ipython",
    "version": 3
   },
   "file_extension": ".py",
   "mimetype": "text/x-python",
   "name": "python",
   "nbconvert_exporter": "python",
   "pygments_lexer": "ipython3",
   "version": "3.8.3"
  }
 },
 "nbformat": 4,
 "nbformat_minor": 4
}

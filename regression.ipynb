{
 "cells": [
  {
   "cell_type": "code",
   "execution_count": 1,
   "metadata": {},
   "outputs": [],
   "source": [
    "import numpy as np\n",
    "import pandas as pd"
   ]
  },
  {
   "cell_type": "code",
   "execution_count": 2,
   "metadata": {},
   "outputs": [],
   "source": [
    "df=pd.read_csv('data_cleaned_2021.csv')"
   ]
  },
  {
   "cell_type": "markdown",
   "metadata": {},
   "source": [
    "Importing the dataset and viewing its shape, columns, etc"
   ]
  },
  {
   "cell_type": "code",
   "execution_count": 3,
   "metadata": {},
   "outputs": [
    {
     "data": {
      "text/html": [
       "<div>\n",
       "<style scoped>\n",
       "    .dataframe tbody tr th:only-of-type {\n",
       "        vertical-align: middle;\n",
       "    }\n",
       "\n",
       "    .dataframe tbody tr th {\n",
       "        vertical-align: top;\n",
       "    }\n",
       "\n",
       "    .dataframe thead th {\n",
       "        text-align: right;\n",
       "    }\n",
       "</style>\n",
       "<table border=\"1\" class=\"dataframe\">\n",
       "  <thead>\n",
       "    <tr style=\"text-align: right;\">\n",
       "      <th></th>\n",
       "      <th>index</th>\n",
       "      <th>Job Title</th>\n",
       "      <th>Salary Estimate</th>\n",
       "      <th>Job Description</th>\n",
       "      <th>Rating</th>\n",
       "      <th>Company Name</th>\n",
       "      <th>Location</th>\n",
       "      <th>Headquarters</th>\n",
       "      <th>Size</th>\n",
       "      <th>Founded</th>\n",
       "      <th>...</th>\n",
       "      <th>tensor</th>\n",
       "      <th>hadoop</th>\n",
       "      <th>tableau</th>\n",
       "      <th>bi</th>\n",
       "      <th>flink</th>\n",
       "      <th>mongo</th>\n",
       "      <th>google_an</th>\n",
       "      <th>job_title_sim</th>\n",
       "      <th>seniority_by_title</th>\n",
       "      <th>Degree</th>\n",
       "    </tr>\n",
       "  </thead>\n",
       "  <tbody>\n",
       "    <tr>\n",
       "      <th>0</th>\n",
       "      <td>0</td>\n",
       "      <td>Data Scientist</td>\n",
       "      <td>$53K-$91K (Glassdoor est.)</td>\n",
       "      <td>Data Scientist\\nLocation: Albuquerque, NM\\nEdu...</td>\n",
       "      <td>3.8</td>\n",
       "      <td>Tecolote Research\\n3.8</td>\n",
       "      <td>Albuquerque, NM</td>\n",
       "      <td>Goleta, CA</td>\n",
       "      <td>501 - 1000</td>\n",
       "      <td>1973</td>\n",
       "      <td>...</td>\n",
       "      <td>0</td>\n",
       "      <td>0</td>\n",
       "      <td>1</td>\n",
       "      <td>1</td>\n",
       "      <td>0</td>\n",
       "      <td>0</td>\n",
       "      <td>0</td>\n",
       "      <td>data scientist</td>\n",
       "      <td>na</td>\n",
       "      <td>M</td>\n",
       "    </tr>\n",
       "    <tr>\n",
       "      <th>1</th>\n",
       "      <td>1</td>\n",
       "      <td>Healthcare Data Scientist</td>\n",
       "      <td>$63K-$112K (Glassdoor est.)</td>\n",
       "      <td>What You Will Do:\\n\\nI. General Summary\\n\\nThe...</td>\n",
       "      <td>3.4</td>\n",
       "      <td>University of Maryland Medical System\\n3.4</td>\n",
       "      <td>Linthicum, MD</td>\n",
       "      <td>Baltimore, MD</td>\n",
       "      <td>10000+</td>\n",
       "      <td>1984</td>\n",
       "      <td>...</td>\n",
       "      <td>0</td>\n",
       "      <td>0</td>\n",
       "      <td>0</td>\n",
       "      <td>0</td>\n",
       "      <td>0</td>\n",
       "      <td>0</td>\n",
       "      <td>0</td>\n",
       "      <td>data scientist</td>\n",
       "      <td>na</td>\n",
       "      <td>M</td>\n",
       "    </tr>\n",
       "    <tr>\n",
       "      <th>2</th>\n",
       "      <td>2</td>\n",
       "      <td>Data Scientist</td>\n",
       "      <td>$80K-$90K (Glassdoor est.)</td>\n",
       "      <td>KnowBe4, Inc. is a high growth information sec...</td>\n",
       "      <td>4.8</td>\n",
       "      <td>KnowBe4\\n4.8</td>\n",
       "      <td>Clearwater, FL</td>\n",
       "      <td>Clearwater, FL</td>\n",
       "      <td>501 - 1000</td>\n",
       "      <td>2010</td>\n",
       "      <td>...</td>\n",
       "      <td>0</td>\n",
       "      <td>0</td>\n",
       "      <td>0</td>\n",
       "      <td>0</td>\n",
       "      <td>0</td>\n",
       "      <td>0</td>\n",
       "      <td>0</td>\n",
       "      <td>data scientist</td>\n",
       "      <td>na</td>\n",
       "      <td>M</td>\n",
       "    </tr>\n",
       "    <tr>\n",
       "      <th>3</th>\n",
       "      <td>3</td>\n",
       "      <td>Data Scientist</td>\n",
       "      <td>$56K-$97K (Glassdoor est.)</td>\n",
       "      <td>*Organization and Job ID**\\nJob ID: 310709\\n\\n...</td>\n",
       "      <td>3.8</td>\n",
       "      <td>PNNL\\n3.8</td>\n",
       "      <td>Richland, WA</td>\n",
       "      <td>Richland, WA</td>\n",
       "      <td>1001 - 5000</td>\n",
       "      <td>1965</td>\n",
       "      <td>...</td>\n",
       "      <td>0</td>\n",
       "      <td>0</td>\n",
       "      <td>0</td>\n",
       "      <td>0</td>\n",
       "      <td>0</td>\n",
       "      <td>0</td>\n",
       "      <td>0</td>\n",
       "      <td>data scientist</td>\n",
       "      <td>na</td>\n",
       "      <td>na</td>\n",
       "    </tr>\n",
       "    <tr>\n",
       "      <th>4</th>\n",
       "      <td>4</td>\n",
       "      <td>Data Scientist</td>\n",
       "      <td>$86K-$143K (Glassdoor est.)</td>\n",
       "      <td>Data Scientist\\nAffinity Solutions / Marketing...</td>\n",
       "      <td>2.9</td>\n",
       "      <td>Affinity Solutions\\n2.9</td>\n",
       "      <td>New York, NY</td>\n",
       "      <td>New York, NY</td>\n",
       "      <td>51 - 200</td>\n",
       "      <td>1998</td>\n",
       "      <td>...</td>\n",
       "      <td>0</td>\n",
       "      <td>0</td>\n",
       "      <td>0</td>\n",
       "      <td>0</td>\n",
       "      <td>0</td>\n",
       "      <td>0</td>\n",
       "      <td>0</td>\n",
       "      <td>data scientist</td>\n",
       "      <td>na</td>\n",
       "      <td>na</td>\n",
       "    </tr>\n",
       "  </tbody>\n",
       "</table>\n",
       "<p>5 rows × 42 columns</p>\n",
       "</div>"
      ],
      "text/plain": [
       "   index                  Job Title              Salary Estimate  \\\n",
       "0      0             Data Scientist   $53K-$91K (Glassdoor est.)   \n",
       "1      1  Healthcare Data Scientist  $63K-$112K (Glassdoor est.)   \n",
       "2      2             Data Scientist   $80K-$90K (Glassdoor est.)   \n",
       "3      3             Data Scientist   $56K-$97K (Glassdoor est.)   \n",
       "4      4             Data Scientist  $86K-$143K (Glassdoor est.)   \n",
       "\n",
       "                                     Job Description  Rating  \\\n",
       "0  Data Scientist\\nLocation: Albuquerque, NM\\nEdu...     3.8   \n",
       "1  What You Will Do:\\n\\nI. General Summary\\n\\nThe...     3.4   \n",
       "2  KnowBe4, Inc. is a high growth information sec...     4.8   \n",
       "3  *Organization and Job ID**\\nJob ID: 310709\\n\\n...     3.8   \n",
       "4  Data Scientist\\nAffinity Solutions / Marketing...     2.9   \n",
       "\n",
       "                                 Company Name         Location  \\\n",
       "0                      Tecolote Research\\n3.8  Albuquerque, NM   \n",
       "1  University of Maryland Medical System\\n3.4    Linthicum, MD   \n",
       "2                                KnowBe4\\n4.8   Clearwater, FL   \n",
       "3                                   PNNL\\n3.8     Richland, WA   \n",
       "4                     Affinity Solutions\\n2.9     New York, NY   \n",
       "\n",
       "     Headquarters          Size  Founded  ... tensor hadoop tableau bi flink  \\\n",
       "0      Goleta, CA   501 - 1000      1973  ...      0      0       1  1     0   \n",
       "1   Baltimore, MD       10000+      1984  ...      0      0       0  0     0   \n",
       "2  Clearwater, FL   501 - 1000      2010  ...      0      0       0  0     0   \n",
       "3    Richland, WA  1001 - 5000      1965  ...      0      0       0  0     0   \n",
       "4    New York, NY     51 - 200      1998  ...      0      0       0  0     0   \n",
       "\n",
       "   mongo  google_an   job_title_sim  seniority_by_title  Degree  \n",
       "0      0          0  data scientist                  na       M  \n",
       "1      0          0  data scientist                  na       M  \n",
       "2      0          0  data scientist                  na       M  \n",
       "3      0          0  data scientist                  na      na  \n",
       "4      0          0  data scientist                  na      na  \n",
       "\n",
       "[5 rows x 42 columns]"
      ]
     },
     "execution_count": 3,
     "metadata": {},
     "output_type": "execute_result"
    }
   ],
   "source": [
    "df.head()"
   ]
  },
  {
   "cell_type": "code",
   "execution_count": 4,
   "metadata": {},
   "outputs": [
    {
     "data": {
      "text/plain": [
       "(742, 42)"
      ]
     },
     "execution_count": 4,
     "metadata": {},
     "output_type": "execute_result"
    }
   ],
   "source": [
    "df.shape"
   ]
  },
  {
   "cell_type": "code",
   "execution_count": 5,
   "metadata": {},
   "outputs": [
    {
     "name": "stdout",
     "output_type": "stream",
     "text": [
      "<class 'pandas.core.frame.DataFrame'>\n",
      "RangeIndex: 742 entries, 0 to 741\n",
      "Data columns (total 42 columns):\n",
      " #   Column              Non-Null Count  Dtype  \n",
      "---  ------              --------------  -----  \n",
      " 0   index               742 non-null    int64  \n",
      " 1   Job Title           742 non-null    object \n",
      " 2   Salary Estimate     742 non-null    object \n",
      " 3   Job Description     742 non-null    object \n",
      " 4   Rating              742 non-null    float64\n",
      " 5   Company Name        742 non-null    object \n",
      " 6   Location            742 non-null    object \n",
      " 7   Headquarters        742 non-null    object \n",
      " 8   Size                742 non-null    object \n",
      " 9   Founded             742 non-null    int64  \n",
      " 10  Type of ownership   742 non-null    object \n",
      " 11  Industry            742 non-null    object \n",
      " 12  Sector              742 non-null    object \n",
      " 13  Revenue             742 non-null    object \n",
      " 14  Competitors         742 non-null    object \n",
      " 15  Hourly              742 non-null    int64  \n",
      " 16  Employer provided   742 non-null    int64  \n",
      " 17  Lower Salary        742 non-null    int64  \n",
      " 18  Upper Salary        742 non-null    int64  \n",
      " 19  Avg Salary(K)       742 non-null    float64\n",
      " 20  company_txt         742 non-null    object \n",
      " 21  Job Location        742 non-null    object \n",
      " 22  Age                 742 non-null    int64  \n",
      " 23  Python              742 non-null    int64  \n",
      " 24  spark               742 non-null    int64  \n",
      " 25  aws                 742 non-null    int64  \n",
      " 26  excel               742 non-null    int64  \n",
      " 27  sql                 742 non-null    int64  \n",
      " 28  sas                 742 non-null    int64  \n",
      " 29  keras               742 non-null    int64  \n",
      " 30  pytorch             742 non-null    int64  \n",
      " 31  scikit              742 non-null    int64  \n",
      " 32  tensor              742 non-null    int64  \n",
      " 33  hadoop              742 non-null    int64  \n",
      " 34  tableau             742 non-null    int64  \n",
      " 35  bi                  742 non-null    int64  \n",
      " 36  flink               742 non-null    int64  \n",
      " 37  mongo               742 non-null    int64  \n",
      " 38  google_an           742 non-null    int64  \n",
      " 39  job_title_sim       742 non-null    object \n",
      " 40  seniority_by_title  742 non-null    object \n",
      " 41  Degree              742 non-null    object \n",
      "dtypes: float64(2), int64(23), object(17)\n",
      "memory usage: 243.6+ KB\n"
     ]
    }
   ],
   "source": [
    "df.info()"
   ]
  },
  {
   "cell_type": "markdown",
   "metadata": {},
   "source": [
    "there are too many columns, some of them are for sure not needed or representing similar findings"
   ]
  },
  {
   "cell_type": "code",
   "execution_count": 6,
   "metadata": {},
   "outputs": [
    {
     "data": {
      "text/plain": [
       "0       72.0\n",
       "1       87.5\n",
       "2       85.0\n",
       "3       76.5\n",
       "4      114.5\n",
       "       ...  \n",
       "737     84.5\n",
       "738    102.5\n",
       "739     73.5\n",
       "740    127.5\n",
       "741     93.5\n",
       "Name: Avg Salary(K), Length: 742, dtype: float64"
      ]
     },
     "execution_count": 6,
     "metadata": {},
     "output_type": "execute_result"
    }
   ],
   "source": [
    "df['Avg Salary(K)']"
   ]
  },
  {
   "cell_type": "code",
   "execution_count": 7,
   "metadata": {},
   "outputs": [
    {
     "data": {
      "text/plain": [
       "0    718\n",
       "1     24\n",
       "Name: Hourly, dtype: int64"
      ]
     },
     "execution_count": 7,
     "metadata": {},
     "output_type": "execute_result"
    }
   ],
   "source": [
    "df['Hourly'].value_counts()"
   ]
  },
  {
   "cell_type": "code",
   "execution_count": 8,
   "metadata": {},
   "outputs": [
    {
     "data": {
      "text/plain": [
       "Data Scientist                     131\n",
       "Data Engineer                       53\n",
       "Senior Data Scientist               34\n",
       "Data Analyst                        15\n",
       "Senior Data Engineer                14\n",
       "                                  ... \n",
       "Data Scientist/ML Engineer           1\n",
       "Sr. Data Scientist                   1\n",
       "Data Engineer 4 - Contract           1\n",
       "Data Analyst - Asset Management      1\n",
       "Machine Learning Engineer (NLP)      1\n",
       "Name: Job Title, Length: 264, dtype: int64"
      ]
     },
     "execution_count": 8,
     "metadata": {},
     "output_type": "execute_result"
    }
   ],
   "source": [
    "df['Job Title'].value_counts()"
   ]
  },
  {
   "cell_type": "code",
   "execution_count": 9,
   "metadata": {},
   "outputs": [
    {
     "data": {
      "text/plain": [
       "0      Data Scientist\\nLocation: Albuquerque, NM\\nEdu...\n",
       "1      What You Will Do:\\n\\nI. General Summary\\n\\nThe...\n",
       "2      KnowBe4, Inc. is a high growth information sec...\n",
       "3      *Organization and Job ID**\\nJob ID: 310709\\n\\n...\n",
       "4      Data Scientist\\nAffinity Solutions / Marketing...\n",
       "                             ...                        \n",
       "737    Site Name: USA - Massachusetts - Cambridge\\nPo...\n",
       "738    THE CHALLENGE\\nEventbrite has a world-class da...\n",
       "739    The Auton Lab at Carnegie Mellon University is...\n",
       "740    Data Science ManagerResponsibilities:\\n\\nOvers...\n",
       "741    Returning Candidate? Log back in to the Career...\n",
       "Name: Job Description, Length: 742, dtype: object"
      ]
     },
     "execution_count": 9,
     "metadata": {},
     "output_type": "execute_result"
    }
   ],
   "source": [
    "df['Job Description']"
   ]
  },
  {
   "cell_type": "markdown",
   "metadata": {},
   "source": [
    "job description has many words but saying what we already know, the job title"
   ]
  },
  {
   "cell_type": "code",
   "execution_count": 10,
   "metadata": {},
   "outputs": [
    {
     "data": {
      "text/plain": [
       "Biotech & Pharmaceuticals           112\n",
       "Insurance Carriers                   63\n",
       "Computer Hardware & Software         59\n",
       "IT Services                          50\n",
       "Health Care Services & Hospitals     49\n",
       "Name: Industry, dtype: int64"
      ]
     },
     "execution_count": 10,
     "metadata": {},
     "output_type": "execute_result"
    }
   ],
   "source": [
    "df['Industry'].value_counts().head()"
   ]
  },
  {
   "cell_type": "code",
   "execution_count": 11,
   "metadata": {},
   "outputs": [
    {
     "data": {
      "text/plain": [
       "Information Technology       180\n",
       "Biotech & Pharmaceuticals    112\n",
       "Business Services             97\n",
       "Insurance                     69\n",
       "Health Care                   49\n",
       "Name: Sector, dtype: int64"
      ]
     },
     "execution_count": 11,
     "metadata": {},
     "output_type": "execute_result"
    }
   ],
   "source": [
    "df['Sector'].value_counts().head()"
   ]
  },
  {
   "cell_type": "markdown",
   "metadata": {},
   "source": [
    "then we have industry and sector which are overlapping in my opinion. moreover, industry has too many unique values"
   ]
  },
  {
   "cell_type": "code",
   "execution_count": 12,
   "metadata": {},
   "outputs": [
    {
     "data": {
      "text/plain": [
       "Unknown / Non-Applicable            204\n",
       "$10+ billion (USD)                  124\n",
       "$100 to $500 million (USD)           91\n",
       "$1 to $2 billion (USD)               60\n",
       "$500 million to $1 billion (USD)     57\n",
       "Name: Revenue, dtype: int64"
      ]
     },
     "execution_count": 12,
     "metadata": {},
     "output_type": "execute_result"
    }
   ],
   "source": [
    "df['Revenue'].value_counts().head()"
   ]
  },
  {
   "cell_type": "code",
   "execution_count": 13,
   "metadata": {},
   "outputs": [
    {
     "data": {
      "text/plain": [
       "Index(['index', 'Job Title', 'Salary Estimate', 'Job Description', 'Rating',\n",
       "       'Company Name', 'Location', 'Headquarters', 'Size', 'Founded',\n",
       "       'Type of ownership', 'Industry', 'Sector', 'Revenue', 'Competitors',\n",
       "       'Hourly', 'Employer provided', 'Lower Salary', 'Upper Salary',\n",
       "       'Avg Salary(K)', 'company_txt', 'Job Location', 'Age', 'Python',\n",
       "       'spark', 'aws', 'excel', 'sql', 'sas', 'keras', 'pytorch', 'scikit',\n",
       "       'tensor', 'hadoop', 'tableau', 'bi', 'flink', 'mongo', 'google_an',\n",
       "       'job_title_sim', 'seniority_by_title', 'Degree'],\n",
       "      dtype='object')"
      ]
     },
     "execution_count": 13,
     "metadata": {},
     "output_type": "execute_result"
    }
   ],
   "source": [
    "df.columns"
   ]
  },
  {
   "cell_type": "code",
   "execution_count": 14,
   "metadata": {},
   "outputs": [
    {
     "data": {
      "text/plain": [
       "200"
      ]
     },
     "execution_count": 14,
     "metadata": {},
     "output_type": "execute_result"
    }
   ],
   "source": [
    "df['Location'].nunique()"
   ]
  },
  {
   "cell_type": "code",
   "execution_count": 15,
   "metadata": {},
   "outputs": [
    {
     "data": {
      "text/plain": [
       "343"
      ]
     },
     "execution_count": 15,
     "metadata": {},
     "output_type": "execute_result"
    }
   ],
   "source": [
    "df['Company Name'].nunique()"
   ]
  },
  {
   "cell_type": "code",
   "execution_count": 16,
   "metadata": {},
   "outputs": [
    {
     "data": {
      "text/plain": [
       "na    519\n",
       "sr    220\n",
       "jr      3\n",
       "Name: seniority_by_title, dtype: int64"
      ]
     },
     "execution_count": 16,
     "metadata": {},
     "output_type": "execute_result"
    }
   ],
   "source": [
    "df['seniority_by_title'].value_counts()"
   ]
  },
  {
   "cell_type": "code",
   "execution_count": 17,
   "metadata": {},
   "outputs": [
    {
     "data": {
      "text/plain": [
       "data scientist                    313\n",
       "other scientist                   143\n",
       "data engineer                     119\n",
       "analyst                           101\n",
       "machine learning engineer          22\n",
       "Data scientist project manager     16\n",
       "na                                 10\n",
       "data analitics                      8\n",
       "data modeler                        5\n",
       "director                            5\n",
       "Name: job_title_sim, dtype: int64"
      ]
     },
     "execution_count": 17,
     "metadata": {},
     "output_type": "execute_result"
    }
   ],
   "source": [
    "df['job_title_sim'].value_counts()"
   ]
  },
  {
   "cell_type": "code",
   "execution_count": 18,
   "metadata": {},
   "outputs": [
    {
     "data": {
      "text/plain": [
       "Data Scientist                     131\n",
       "Data Engineer                       53\n",
       "Senior Data Scientist               34\n",
       "Data Analyst                        15\n",
       "Senior Data Engineer                14\n",
       "                                  ... \n",
       "Data Scientist/ML Engineer           1\n",
       "Sr. Data Scientist                   1\n",
       "Data Engineer 4 - Contract           1\n",
       "Data Analyst - Asset Management      1\n",
       "Machine Learning Engineer (NLP)      1\n",
       "Name: Job Title, Length: 264, dtype: int64"
      ]
     },
     "execution_count": 18,
     "metadata": {},
     "output_type": "execute_result"
    }
   ],
   "source": [
    "df['Job Title'].value_counts()"
   ]
  },
  {
   "cell_type": "code",
   "execution_count": 19,
   "metadata": {},
   "outputs": [
    {
     "data": {
      "text/plain": [
       "264"
      ]
     },
     "execution_count": 19,
     "metadata": {},
     "output_type": "execute_result"
    }
   ],
   "source": [
    "df['Job Title'].nunique()"
   ]
  },
  {
   "cell_type": "code",
   "execution_count": 20,
   "metadata": {},
   "outputs": [
    {
     "data": {
      "text/plain": [
       "0    718\n",
       "1     24\n",
       "Name: Hourly, dtype: int64"
      ]
     },
     "execution_count": 20,
     "metadata": {},
     "output_type": "execute_result"
    }
   ],
   "source": [
    "df['Hourly'].value_counts()"
   ]
  },
  {
   "cell_type": "code",
   "execution_count": 21,
   "metadata": {},
   "outputs": [
    {
     "data": {
      "text/plain": [
       "60"
      ]
     },
     "execution_count": 21,
     "metadata": {},
     "output_type": "execute_result"
    }
   ],
   "source": [
    "df['Industry'].nunique()"
   ]
  },
  {
   "cell_type": "code",
   "execution_count": 22,
   "metadata": {},
   "outputs": [
    {
     "data": {
      "text/plain": [
       "Biotech & Pharmaceuticals                  112\n",
       "Insurance Carriers                          63\n",
       "Computer Hardware & Software                59\n",
       "IT Services                                 50\n",
       "Health Care Services & Hospitals            49\n",
       "Enterprise Software & Network Solutions     42\n",
       "Internet                                    29\n",
       "Consulting                                  29\n",
       "Aerospace & Defense                         25\n",
       "Advertising & Marketing                     25\n",
       "Name: Industry, dtype: int64"
      ]
     },
     "execution_count": 22,
     "metadata": {},
     "output_type": "execute_result"
    }
   ],
   "source": [
    "df['Industry'].value_counts().head(10)"
   ]
  },
  {
   "cell_type": "code",
   "execution_count": 23,
   "metadata": {},
   "outputs": [
    {
     "data": {
      "text/plain": [
       "25"
      ]
     },
     "execution_count": 23,
     "metadata": {},
     "output_type": "execute_result"
    }
   ],
   "source": [
    "df['Sector'].nunique()"
   ]
  },
  {
   "cell_type": "code",
   "execution_count": 24,
   "metadata": {},
   "outputs": [
    {
     "data": {
      "text/plain": [
       "Information Technology       180\n",
       "Biotech & Pharmaceuticals    112\n",
       "Business Services             97\n",
       "Insurance                     69\n",
       "Health Care                   49\n",
       "Finance                       42\n",
       "Manufacturing                 34\n",
       "Aerospace & Defense           25\n",
       "Education                     23\n",
       "Retail                        15\n",
       "Name: Sector, dtype: int64"
      ]
     },
     "execution_count": 24,
     "metadata": {},
     "output_type": "execute_result"
    }
   ],
   "source": [
    "df['Sector'].value_counts().head(10)"
   ]
  },
  {
   "cell_type": "code",
   "execution_count": 25,
   "metadata": {},
   "outputs": [
    {
     "data": {
      "text/plain": [
       "Unknown / Non-Applicable            204\n",
       "$10+ billion (USD)                  124\n",
       "$100 to $500 million (USD)           91\n",
       "$1 to $2 billion (USD)               60\n",
       "$500 million to $1 billion (USD)     57\n",
       "$50 to $100 million (USD)            46\n",
       "$25 to $50 million (USD)             40\n",
       "$2 to $5 billion (USD)               39\n",
       "$10 to $25 million (USD)             32\n",
       "$5 to $10 billion (USD)              19\n",
       "$5 to $10 million (USD)              18\n",
       "$1 to $5 million (USD)                8\n",
       "Less than $1 million (USD)            4\n",
       "Name: Revenue, dtype: int64"
      ]
     },
     "execution_count": 25,
     "metadata": {},
     "output_type": "execute_result"
    }
   ],
   "source": [
    "df['Revenue'].value_counts()"
   ]
  },
  {
   "cell_type": "code",
   "execution_count": 26,
   "metadata": {},
   "outputs": [
    {
     "data": {
      "text/plain": [
       "MassMutual                                         14\n",
       "Reynolds American                                  14\n",
       "Takeda Pharmaceuticals                             14\n",
       "Software Engineering Institute                     11\n",
       "PNNL                                               10\n",
       "                                                   ..\n",
       "Dayton Freight Lines, Inc.                          1\n",
       "Community Action Partnership of San Luis Obispo     1\n",
       "TrueAccord                                          1\n",
       "DRB Systems                                         1\n",
       "Fivestars                                           1\n",
       "Name: company_txt, Length: 343, dtype: int64"
      ]
     },
     "execution_count": 26,
     "metadata": {},
     "output_type": "execute_result"
    }
   ],
   "source": [
    "df['company_txt'].value_counts()"
   ]
  },
  {
   "cell_type": "code",
   "execution_count": 27,
   "metadata": {},
   "outputs": [
    {
     "data": {
      "text/plain": [
       "-1                                                                                              460\n",
       "Novartis, Baxter, Pfizer                                                                         14\n",
       "Oak Ridge National Laboratory, National Renewable Energy Lab, Los Alamos National Laboratory     12\n",
       "Travelers, Allstate, State Farm                                                                  10\n",
       "Roche, GlaxoSmithKline, Novartis                                                                  9\n",
       "                                                                                               ... \n",
       "BrowserStack, Selenium Master, Perfecto Mobile                                                    1\n",
       "Boeing, Northrop Grumman, Raytheon                                                                1\n",
       "Unilever, Procter & Gamble, Henkel                                                                1\n",
       "TASC, Vencore, Booz Allen Hamilton                                                                1\n",
       "Belly, SpotOn                                                                                     1\n",
       "Name: Competitors, Length: 128, dtype: int64"
      ]
     },
     "execution_count": 27,
     "metadata": {},
     "output_type": "execute_result"
    }
   ],
   "source": [
    "df['Competitors'].value_counts()"
   ]
  },
  {
   "cell_type": "code",
   "execution_count": 28,
   "metadata": {},
   "outputs": [
    {
     "data": {
      "text/plain": [
       "0    725\n",
       "1     17\n",
       "Name: Employer provided, dtype: int64"
      ]
     },
     "execution_count": 28,
     "metadata": {},
     "output_type": "execute_result"
    }
   ],
   "source": [
    "df['Employer provided'].value_counts()"
   ]
  },
  {
   "cell_type": "code",
   "execution_count": 29,
   "metadata": {},
   "outputs": [
    {
     "data": {
      "text/plain": [
       "Company - Private                 410\n",
       "Company - Public                  193\n",
       "Nonprofit Organization             55\n",
       "Subsidiary or Business Segment     34\n",
       "Government                         15\n",
       "Hospital                           15\n",
       "College / University               13\n",
       "Other Organization                  5\n",
       "School / School District            2\n",
       "Name: Type of ownership, dtype: int64"
      ]
     },
     "execution_count": 29,
     "metadata": {},
     "output_type": "execute_result"
    }
   ],
   "source": [
    "df['Type of ownership'].value_counts()"
   ]
  },
  {
   "cell_type": "code",
   "execution_count": 30,
   "metadata": {},
   "outputs": [
    {
     "data": {
      "text/plain": [
       "na    383\n",
       "M     252\n",
       "P     107\n",
       "Name: Degree, dtype: int64"
      ]
     },
     "execution_count": 30,
     "metadata": {},
     "output_type": "execute_result"
    }
   ],
   "source": [
    "df['Degree'].value_counts()"
   ]
  },
  {
   "cell_type": "code",
   "execution_count": 31,
   "metadata": {},
   "outputs": [
    {
     "data": {
      "text/plain": [
       "Index(['index', 'Job Title', 'Salary Estimate', 'Job Description', 'Rating',\n",
       "       'Company Name', 'Location', 'Headquarters', 'Size', 'Founded',\n",
       "       'Type of ownership', 'Industry', 'Sector', 'Revenue', 'Competitors',\n",
       "       'Hourly', 'Employer provided', 'Lower Salary', 'Upper Salary',\n",
       "       'Avg Salary(K)', 'company_txt', 'Job Location', 'Age', 'Python',\n",
       "       'spark', 'aws', 'excel', 'sql', 'sas', 'keras', 'pytorch', 'scikit',\n",
       "       'tensor', 'hadoop', 'tableau', 'bi', 'flink', 'mongo', 'google_an',\n",
       "       'job_title_sim', 'seniority_by_title', 'Degree'],\n",
       "      dtype='object')"
      ]
     },
     "execution_count": 31,
     "metadata": {},
     "output_type": "execute_result"
    }
   ],
   "source": [
    "df.columns"
   ]
  },
  {
   "cell_type": "markdown",
   "metadata": {},
   "source": [
    "as there are too many variables we pick some of them and make a new dataframe"
   ]
  },
  {
   "cell_type": "code",
   "execution_count": 32,
   "metadata": {},
   "outputs": [],
   "source": [
    "df1=df[['Rating', 'Size', 'Type of ownership',  'Sector', 'Revenue', 'Hourly', 'Employer provided', \n",
    "       'Avg Salary(K)',   'Age', 'Python','spark', 'aws', 'excel', 'sql', 'sas', 'keras', 'pytorch', 'scikit',\n",
    "       'tensor', 'hadoop', 'tableau', 'bi', 'flink', 'mongo', 'google_an','job_title_sim', 'seniority_by_title', 'Degree']]"
   ]
  },
  {
   "cell_type": "code",
   "execution_count": 33,
   "metadata": {},
   "outputs": [
    {
     "data": {
      "text/html": [
       "<div>\n",
       "<style scoped>\n",
       "    .dataframe tbody tr th:only-of-type {\n",
       "        vertical-align: middle;\n",
       "    }\n",
       "\n",
       "    .dataframe tbody tr th {\n",
       "        vertical-align: top;\n",
       "    }\n",
       "\n",
       "    .dataframe thead th {\n",
       "        text-align: right;\n",
       "    }\n",
       "</style>\n",
       "<table border=\"1\" class=\"dataframe\">\n",
       "  <thead>\n",
       "    <tr style=\"text-align: right;\">\n",
       "      <th></th>\n",
       "      <th>Rating</th>\n",
       "      <th>Size</th>\n",
       "      <th>Type of ownership</th>\n",
       "      <th>Sector</th>\n",
       "      <th>Revenue</th>\n",
       "      <th>Hourly</th>\n",
       "      <th>Employer provided</th>\n",
       "      <th>Avg Salary(K)</th>\n",
       "      <th>Age</th>\n",
       "      <th>Python</th>\n",
       "      <th>...</th>\n",
       "      <th>tensor</th>\n",
       "      <th>hadoop</th>\n",
       "      <th>tableau</th>\n",
       "      <th>bi</th>\n",
       "      <th>flink</th>\n",
       "      <th>mongo</th>\n",
       "      <th>google_an</th>\n",
       "      <th>job_title_sim</th>\n",
       "      <th>seniority_by_title</th>\n",
       "      <th>Degree</th>\n",
       "    </tr>\n",
       "  </thead>\n",
       "  <tbody>\n",
       "    <tr>\n",
       "      <th>0</th>\n",
       "      <td>3.8</td>\n",
       "      <td>501 - 1000</td>\n",
       "      <td>Company - Private</td>\n",
       "      <td>Aerospace &amp; Defense</td>\n",
       "      <td>$50 to $100 million (USD)</td>\n",
       "      <td>0</td>\n",
       "      <td>0</td>\n",
       "      <td>72.0</td>\n",
       "      <td>48</td>\n",
       "      <td>1</td>\n",
       "      <td>...</td>\n",
       "      <td>0</td>\n",
       "      <td>0</td>\n",
       "      <td>1</td>\n",
       "      <td>1</td>\n",
       "      <td>0</td>\n",
       "      <td>0</td>\n",
       "      <td>0</td>\n",
       "      <td>data scientist</td>\n",
       "      <td>na</td>\n",
       "      <td>M</td>\n",
       "    </tr>\n",
       "    <tr>\n",
       "      <th>1</th>\n",
       "      <td>3.4</td>\n",
       "      <td>10000+</td>\n",
       "      <td>Other Organization</td>\n",
       "      <td>Health Care</td>\n",
       "      <td>$2 to $5 billion (USD)</td>\n",
       "      <td>0</td>\n",
       "      <td>0</td>\n",
       "      <td>87.5</td>\n",
       "      <td>37</td>\n",
       "      <td>1</td>\n",
       "      <td>...</td>\n",
       "      <td>0</td>\n",
       "      <td>0</td>\n",
       "      <td>0</td>\n",
       "      <td>0</td>\n",
       "      <td>0</td>\n",
       "      <td>0</td>\n",
       "      <td>0</td>\n",
       "      <td>data scientist</td>\n",
       "      <td>na</td>\n",
       "      <td>M</td>\n",
       "    </tr>\n",
       "    <tr>\n",
       "      <th>2</th>\n",
       "      <td>4.8</td>\n",
       "      <td>501 - 1000</td>\n",
       "      <td>Company - Private</td>\n",
       "      <td>Business Services</td>\n",
       "      <td>$100 to $500 million (USD)</td>\n",
       "      <td>0</td>\n",
       "      <td>0</td>\n",
       "      <td>85.0</td>\n",
       "      <td>11</td>\n",
       "      <td>1</td>\n",
       "      <td>...</td>\n",
       "      <td>0</td>\n",
       "      <td>0</td>\n",
       "      <td>0</td>\n",
       "      <td>0</td>\n",
       "      <td>0</td>\n",
       "      <td>0</td>\n",
       "      <td>0</td>\n",
       "      <td>data scientist</td>\n",
       "      <td>na</td>\n",
       "      <td>M</td>\n",
       "    </tr>\n",
       "    <tr>\n",
       "      <th>3</th>\n",
       "      <td>3.8</td>\n",
       "      <td>1001 - 5000</td>\n",
       "      <td>Government</td>\n",
       "      <td>Oil, Gas, Energy &amp; Utilities</td>\n",
       "      <td>$500 million to $1 billion (USD)</td>\n",
       "      <td>0</td>\n",
       "      <td>0</td>\n",
       "      <td>76.5</td>\n",
       "      <td>56</td>\n",
       "      <td>1</td>\n",
       "      <td>...</td>\n",
       "      <td>0</td>\n",
       "      <td>0</td>\n",
       "      <td>0</td>\n",
       "      <td>0</td>\n",
       "      <td>0</td>\n",
       "      <td>0</td>\n",
       "      <td>0</td>\n",
       "      <td>data scientist</td>\n",
       "      <td>na</td>\n",
       "      <td>na</td>\n",
       "    </tr>\n",
       "    <tr>\n",
       "      <th>4</th>\n",
       "      <td>2.9</td>\n",
       "      <td>51 - 200</td>\n",
       "      <td>Company - Private</td>\n",
       "      <td>Business Services</td>\n",
       "      <td>Unknown / Non-Applicable</td>\n",
       "      <td>0</td>\n",
       "      <td>0</td>\n",
       "      <td>114.5</td>\n",
       "      <td>23</td>\n",
       "      <td>1</td>\n",
       "      <td>...</td>\n",
       "      <td>0</td>\n",
       "      <td>0</td>\n",
       "      <td>0</td>\n",
       "      <td>0</td>\n",
       "      <td>0</td>\n",
       "      <td>0</td>\n",
       "      <td>0</td>\n",
       "      <td>data scientist</td>\n",
       "      <td>na</td>\n",
       "      <td>na</td>\n",
       "    </tr>\n",
       "  </tbody>\n",
       "</table>\n",
       "<p>5 rows × 28 columns</p>\n",
       "</div>"
      ],
      "text/plain": [
       "   Rating          Size   Type of ownership                        Sector  \\\n",
       "0     3.8   501 - 1000    Company - Private           Aerospace & Defense   \n",
       "1     3.4       10000+   Other Organization                   Health Care   \n",
       "2     4.8   501 - 1000    Company - Private             Business Services   \n",
       "3     3.8  1001 - 5000           Government  Oil, Gas, Energy & Utilities   \n",
       "4     2.9     51 - 200    Company - Private             Business Services   \n",
       "\n",
       "                            Revenue  Hourly  Employer provided  Avg Salary(K)  \\\n",
       "0         $50 to $100 million (USD)       0                  0           72.0   \n",
       "1            $2 to $5 billion (USD)       0                  0           87.5   \n",
       "2        $100 to $500 million (USD)       0                  0           85.0   \n",
       "3  $500 million to $1 billion (USD)       0                  0           76.5   \n",
       "4          Unknown / Non-Applicable       0                  0          114.5   \n",
       "\n",
       "   Age  Python  ...  tensor  hadoop  tableau  bi  flink  mongo  google_an  \\\n",
       "0   48       1  ...       0       0        1   1      0      0          0   \n",
       "1   37       1  ...       0       0        0   0      0      0          0   \n",
       "2   11       1  ...       0       0        0   0      0      0          0   \n",
       "3   56       1  ...       0       0        0   0      0      0          0   \n",
       "4   23       1  ...       0       0        0   0      0      0          0   \n",
       "\n",
       "    job_title_sim  seniority_by_title  Degree  \n",
       "0  data scientist                  na       M  \n",
       "1  data scientist                  na       M  \n",
       "2  data scientist                  na       M  \n",
       "3  data scientist                  na      na  \n",
       "4  data scientist                  na      na  \n",
       "\n",
       "[5 rows x 28 columns]"
      ]
     },
     "execution_count": 33,
     "metadata": {},
     "output_type": "execute_result"
    }
   ],
   "source": [
    "df1.head()"
   ]
  },
  {
   "cell_type": "code",
   "execution_count": 34,
   "metadata": {},
   "outputs": [
    {
     "name": "stdout",
     "output_type": "stream",
     "text": [
      "<class 'pandas.core.frame.DataFrame'>\n",
      "RangeIndex: 742 entries, 0 to 741\n",
      "Data columns (total 28 columns):\n",
      " #   Column              Non-Null Count  Dtype  \n",
      "---  ------              --------------  -----  \n",
      " 0   Rating              742 non-null    float64\n",
      " 1   Size                742 non-null    object \n",
      " 2   Type of ownership   742 non-null    object \n",
      " 3   Sector              742 non-null    object \n",
      " 4   Revenue             742 non-null    object \n",
      " 5   Hourly              742 non-null    int64  \n",
      " 6   Employer provided   742 non-null    int64  \n",
      " 7   Avg Salary(K)       742 non-null    float64\n",
      " 8   Age                 742 non-null    int64  \n",
      " 9   Python              742 non-null    int64  \n",
      " 10  spark               742 non-null    int64  \n",
      " 11  aws                 742 non-null    int64  \n",
      " 12  excel               742 non-null    int64  \n",
      " 13  sql                 742 non-null    int64  \n",
      " 14  sas                 742 non-null    int64  \n",
      " 15  keras               742 non-null    int64  \n",
      " 16  pytorch             742 non-null    int64  \n",
      " 17  scikit              742 non-null    int64  \n",
      " 18  tensor              742 non-null    int64  \n",
      " 19  hadoop              742 non-null    int64  \n",
      " 20  tableau             742 non-null    int64  \n",
      " 21  bi                  742 non-null    int64  \n",
      " 22  flink               742 non-null    int64  \n",
      " 23  mongo               742 non-null    int64  \n",
      " 24  google_an           742 non-null    int64  \n",
      " 25  job_title_sim       742 non-null    object \n",
      " 26  seniority_by_title  742 non-null    object \n",
      " 27  Degree              742 non-null    object \n",
      "dtypes: float64(2), int64(19), object(7)\n",
      "memory usage: 162.4+ KB\n"
     ]
    }
   ],
   "source": [
    "df1.info()"
   ]
  },
  {
   "cell_type": "code",
   "execution_count": 35,
   "metadata": {},
   "outputs": [
    {
     "data": {
      "text/plain": [
       "Index(['Rating', 'Size', 'Type of ownership', 'Sector', 'Revenue', 'Hourly',\n",
       "       'Employer provided', 'Avg Salary(K)', 'Age', 'Python', 'spark', 'aws',\n",
       "       'excel', 'sql', 'sas', 'keras', 'pytorch', 'scikit', 'tensor', 'hadoop',\n",
       "       'tableau', 'bi', 'flink', 'mongo', 'google_an', 'job_title_sim',\n",
       "       'seniority_by_title', 'Degree'],\n",
       "      dtype='object')"
      ]
     },
     "execution_count": 35,
     "metadata": {},
     "output_type": "execute_result"
    }
   ],
   "source": [
    "df1.columns"
   ]
  },
  {
   "cell_type": "code",
   "execution_count": 36,
   "metadata": {},
   "outputs": [],
   "source": [
    "lst=['Size','Type of ownership', 'Sector', 'Revenue', 'Hourly',\n",
    "       'Employer provided','job_title_sim',\n",
    "       'seniority_by_title', 'Degree']"
   ]
  },
  {
   "cell_type": "code",
   "execution_count": 37,
   "metadata": {},
   "outputs": [
    {
     "name": "stderr",
     "output_type": "stream",
     "text": [
      "<ipython-input-37-49b41da91be8>:2: SettingWithCopyWarning: \n",
      "A value is trying to be set on a copy of a slice from a DataFrame.\n",
      "Try using .loc[row_indexer,col_indexer] = value instead\n",
      "\n",
      "See the caveats in the documentation: https://pandas.pydata.org/pandas-docs/stable/user_guide/indexing.html#returning-a-view-versus-a-copy\n",
      "  df1[i]=df1[i].astype('category')\n",
      "<ipython-input-37-49b41da91be8>:2: SettingWithCopyWarning: \n",
      "A value is trying to be set on a copy of a slice from a DataFrame.\n",
      "Try using .loc[row_indexer,col_indexer] = value instead\n",
      "\n",
      "See the caveats in the documentation: https://pandas.pydata.org/pandas-docs/stable/user_guide/indexing.html#returning-a-view-versus-a-copy\n",
      "  df1[i]=df1[i].astype('category')\n",
      "<ipython-input-37-49b41da91be8>:2: SettingWithCopyWarning: \n",
      "A value is trying to be set on a copy of a slice from a DataFrame.\n",
      "Try using .loc[row_indexer,col_indexer] = value instead\n",
      "\n",
      "See the caveats in the documentation: https://pandas.pydata.org/pandas-docs/stable/user_guide/indexing.html#returning-a-view-versus-a-copy\n",
      "  df1[i]=df1[i].astype('category')\n",
      "<ipython-input-37-49b41da91be8>:2: SettingWithCopyWarning: \n",
      "A value is trying to be set on a copy of a slice from a DataFrame.\n",
      "Try using .loc[row_indexer,col_indexer] = value instead\n",
      "\n",
      "See the caveats in the documentation: https://pandas.pydata.org/pandas-docs/stable/user_guide/indexing.html#returning-a-view-versus-a-copy\n",
      "  df1[i]=df1[i].astype('category')\n",
      "<ipython-input-37-49b41da91be8>:2: SettingWithCopyWarning: \n",
      "A value is trying to be set on a copy of a slice from a DataFrame.\n",
      "Try using .loc[row_indexer,col_indexer] = value instead\n",
      "\n",
      "See the caveats in the documentation: https://pandas.pydata.org/pandas-docs/stable/user_guide/indexing.html#returning-a-view-versus-a-copy\n",
      "  df1[i]=df1[i].astype('category')\n",
      "<ipython-input-37-49b41da91be8>:2: SettingWithCopyWarning: \n",
      "A value is trying to be set on a copy of a slice from a DataFrame.\n",
      "Try using .loc[row_indexer,col_indexer] = value instead\n",
      "\n",
      "See the caveats in the documentation: https://pandas.pydata.org/pandas-docs/stable/user_guide/indexing.html#returning-a-view-versus-a-copy\n",
      "  df1[i]=df1[i].astype('category')\n",
      "<ipython-input-37-49b41da91be8>:2: SettingWithCopyWarning: \n",
      "A value is trying to be set on a copy of a slice from a DataFrame.\n",
      "Try using .loc[row_indexer,col_indexer] = value instead\n",
      "\n",
      "See the caveats in the documentation: https://pandas.pydata.org/pandas-docs/stable/user_guide/indexing.html#returning-a-view-versus-a-copy\n",
      "  df1[i]=df1[i].astype('category')\n",
      "<ipython-input-37-49b41da91be8>:2: SettingWithCopyWarning: \n",
      "A value is trying to be set on a copy of a slice from a DataFrame.\n",
      "Try using .loc[row_indexer,col_indexer] = value instead\n",
      "\n",
      "See the caveats in the documentation: https://pandas.pydata.org/pandas-docs/stable/user_guide/indexing.html#returning-a-view-versus-a-copy\n",
      "  df1[i]=df1[i].astype('category')\n",
      "<ipython-input-37-49b41da91be8>:2: SettingWithCopyWarning: \n",
      "A value is trying to be set on a copy of a slice from a DataFrame.\n",
      "Try using .loc[row_indexer,col_indexer] = value instead\n",
      "\n",
      "See the caveats in the documentation: https://pandas.pydata.org/pandas-docs/stable/user_guide/indexing.html#returning-a-view-versus-a-copy\n",
      "  df1[i]=df1[i].astype('category')\n"
     ]
    }
   ],
   "source": [
    "for i in lst:\n",
    "    df1[i]=df1[i].astype('category')"
   ]
  },
  {
   "cell_type": "code",
   "execution_count": 38,
   "metadata": {},
   "outputs": [
    {
     "name": "stdout",
     "output_type": "stream",
     "text": [
      "<class 'pandas.core.frame.DataFrame'>\n",
      "RangeIndex: 742 entries, 0 to 741\n",
      "Data columns (total 28 columns):\n",
      " #   Column              Non-Null Count  Dtype   \n",
      "---  ------              --------------  -----   \n",
      " 0   Rating              742 non-null    float64 \n",
      " 1   Size                742 non-null    category\n",
      " 2   Type of ownership   742 non-null    category\n",
      " 3   Sector              742 non-null    category\n",
      " 4   Revenue             742 non-null    category\n",
      " 5   Hourly              742 non-null    category\n",
      " 6   Employer provided   742 non-null    category\n",
      " 7   Avg Salary(K)       742 non-null    float64 \n",
      " 8   Age                 742 non-null    int64   \n",
      " 9   Python              742 non-null    int64   \n",
      " 10  spark               742 non-null    int64   \n",
      " 11  aws                 742 non-null    int64   \n",
      " 12  excel               742 non-null    int64   \n",
      " 13  sql                 742 non-null    int64   \n",
      " 14  sas                 742 non-null    int64   \n",
      " 15  keras               742 non-null    int64   \n",
      " 16  pytorch             742 non-null    int64   \n",
      " 17  scikit              742 non-null    int64   \n",
      " 18  tensor              742 non-null    int64   \n",
      " 19  hadoop              742 non-null    int64   \n",
      " 20  tableau             742 non-null    int64   \n",
      " 21  bi                  742 non-null    int64   \n",
      " 22  flink               742 non-null    int64   \n",
      " 23  mongo               742 non-null    int64   \n",
      " 24  google_an           742 non-null    int64   \n",
      " 25  job_title_sim       742 non-null    category\n",
      " 26  seniority_by_title  742 non-null    category\n",
      " 27  Degree              742 non-null    category\n",
      "dtypes: category(9), float64(2), int64(17)\n",
      "memory usage: 119.8 KB\n"
     ]
    }
   ],
   "source": [
    "df1.info()"
   ]
  },
  {
   "cell_type": "code",
   "execution_count": 39,
   "metadata": {},
   "outputs": [
    {
     "data": {
      "text/plain": [
       "Rating                0\n",
       "Size                  0\n",
       "Type of ownership     0\n",
       "Sector                0\n",
       "Revenue               0\n",
       "Hourly                0\n",
       "Employer provided     0\n",
       "Avg Salary(K)         0\n",
       "Age                   0\n",
       "Python                0\n",
       "spark                 0\n",
       "aws                   0\n",
       "excel                 0\n",
       "sql                   0\n",
       "sas                   0\n",
       "keras                 0\n",
       "pytorch               0\n",
       "scikit                0\n",
       "tensor                0\n",
       "hadoop                0\n",
       "tableau               0\n",
       "bi                    0\n",
       "flink                 0\n",
       "mongo                 0\n",
       "google_an             0\n",
       "job_title_sim         0\n",
       "seniority_by_title    0\n",
       "Degree                0\n",
       "dtype: int64"
      ]
     },
     "execution_count": 39,
     "metadata": {},
     "output_type": "execute_result"
    }
   ],
   "source": [
    "df1.isnull().sum()"
   ]
  },
  {
   "cell_type": "code",
   "execution_count": 40,
   "metadata": {},
   "outputs": [
    {
     "data": {
      "text/html": [
       "<div>\n",
       "<style scoped>\n",
       "    .dataframe tbody tr th:only-of-type {\n",
       "        vertical-align: middle;\n",
       "    }\n",
       "\n",
       "    .dataframe tbody tr th {\n",
       "        vertical-align: top;\n",
       "    }\n",
       "\n",
       "    .dataframe thead th {\n",
       "        text-align: right;\n",
       "    }\n",
       "</style>\n",
       "<table border=\"1\" class=\"dataframe\">\n",
       "  <thead>\n",
       "    <tr style=\"text-align: right;\">\n",
       "      <th></th>\n",
       "      <th>Rating</th>\n",
       "      <th>Avg Salary(K)</th>\n",
       "      <th>Age</th>\n",
       "      <th>Python</th>\n",
       "      <th>spark</th>\n",
       "      <th>aws</th>\n",
       "      <th>excel</th>\n",
       "      <th>sql</th>\n",
       "      <th>sas</th>\n",
       "      <th>keras</th>\n",
       "      <th>pytorch</th>\n",
       "      <th>scikit</th>\n",
       "      <th>tensor</th>\n",
       "      <th>hadoop</th>\n",
       "      <th>tableau</th>\n",
       "      <th>bi</th>\n",
       "      <th>flink</th>\n",
       "      <th>mongo</th>\n",
       "      <th>google_an</th>\n",
       "    </tr>\n",
       "  </thead>\n",
       "  <tbody>\n",
       "    <tr>\n",
       "      <th>Rating</th>\n",
       "      <td>1.000000</td>\n",
       "      <td>0.012475</td>\n",
       "      <td>0.023162</td>\n",
       "      <td>0.144665</td>\n",
       "      <td>0.156982</td>\n",
       "      <td>0.117049</td>\n",
       "      <td>-0.036466</td>\n",
       "      <td>0.134463</td>\n",
       "      <td>0.000324</td>\n",
       "      <td>0.076893</td>\n",
       "      <td>0.058564</td>\n",
       "      <td>0.110033</td>\n",
       "      <td>0.069042</td>\n",
       "      <td>0.145098</td>\n",
       "      <td>0.001717</td>\n",
       "      <td>0.039784</td>\n",
       "      <td>0.048338</td>\n",
       "      <td>0.035587</td>\n",
       "      <td>-0.019351</td>\n",
       "    </tr>\n",
       "    <tr>\n",
       "      <th>Avg Salary(K)</th>\n",
       "      <td>0.012475</td>\n",
       "      <td>1.000000</td>\n",
       "      <td>0.022076</td>\n",
       "      <td>0.315552</td>\n",
       "      <td>0.170678</td>\n",
       "      <td>0.172660</td>\n",
       "      <td>-0.072323</td>\n",
       "      <td>0.002008</td>\n",
       "      <td>0.101938</td>\n",
       "      <td>0.115658</td>\n",
       "      <td>0.044759</td>\n",
       "      <td>0.178237</td>\n",
       "      <td>0.160098</td>\n",
       "      <td>0.110562</td>\n",
       "      <td>-0.074753</td>\n",
       "      <td>-0.044491</td>\n",
       "      <td>0.085859</td>\n",
       "      <td>0.070925</td>\n",
       "      <td>-0.123306</td>\n",
       "    </tr>\n",
       "    <tr>\n",
       "      <th>Age</th>\n",
       "      <td>0.023162</td>\n",
       "      <td>0.022076</td>\n",
       "      <td>1.000000</td>\n",
       "      <td>-0.098626</td>\n",
       "      <td>-0.102418</td>\n",
       "      <td>-0.033111</td>\n",
       "      <td>0.038846</td>\n",
       "      <td>-0.117977</td>\n",
       "      <td>0.030657</td>\n",
       "      <td>-0.065947</td>\n",
       "      <td>-0.039562</td>\n",
       "      <td>-0.081608</td>\n",
       "      <td>-0.055830</td>\n",
       "      <td>-0.053311</td>\n",
       "      <td>-0.055828</td>\n",
       "      <td>0.020544</td>\n",
       "      <td>-0.058273</td>\n",
       "      <td>0.044605</td>\n",
       "      <td>-0.058240</td>\n",
       "    </tr>\n",
       "    <tr>\n",
       "      <th>Python</th>\n",
       "      <td>0.144665</td>\n",
       "      <td>0.315552</td>\n",
       "      <td>-0.098626</td>\n",
       "      <td>1.000000</td>\n",
       "      <td>0.347619</td>\n",
       "      <td>0.203221</td>\n",
       "      <td>-0.021519</td>\n",
       "      <td>0.373999</td>\n",
       "      <td>0.086607</td>\n",
       "      <td>0.190566</td>\n",
       "      <td>0.113676</td>\n",
       "      <td>0.254331</td>\n",
       "      <td>0.209430</td>\n",
       "      <td>0.235114</td>\n",
       "      <td>0.154118</td>\n",
       "      <td>0.167770</td>\n",
       "      <td>0.063615</td>\n",
       "      <td>0.080035</td>\n",
       "      <td>-0.027705</td>\n",
       "    </tr>\n",
       "    <tr>\n",
       "      <th>spark</th>\n",
       "      <td>0.156982</td>\n",
       "      <td>0.170678</td>\n",
       "      <td>-0.102418</td>\n",
       "      <td>0.347619</td>\n",
       "      <td>1.000000</td>\n",
       "      <td>0.298822</td>\n",
       "      <td>-0.047334</td>\n",
       "      <td>0.261304</td>\n",
       "      <td>-0.055031</td>\n",
       "      <td>0.107790</td>\n",
       "      <td>0.032138</td>\n",
       "      <td>0.271394</td>\n",
       "      <td>0.237612</td>\n",
       "      <td>0.537081</td>\n",
       "      <td>-0.018655</td>\n",
       "      <td>-0.044026</td>\n",
       "      <td>0.216880</td>\n",
       "      <td>0.232356</td>\n",
       "      <td>-0.051017</td>\n",
       "    </tr>\n",
       "    <tr>\n",
       "      <th>aws</th>\n",
       "      <td>0.117049</td>\n",
       "      <td>0.172660</td>\n",
       "      <td>-0.033111</td>\n",
       "      <td>0.203221</td>\n",
       "      <td>0.298822</td>\n",
       "      <td>1.000000</td>\n",
       "      <td>-0.019235</td>\n",
       "      <td>0.106902</td>\n",
       "      <td>-0.140850</td>\n",
       "      <td>0.132776</td>\n",
       "      <td>0.110025</td>\n",
       "      <td>0.087712</td>\n",
       "      <td>0.116905</td>\n",
       "      <td>0.276749</td>\n",
       "      <td>-0.000834</td>\n",
       "      <td>0.032589</td>\n",
       "      <td>0.154647</td>\n",
       "      <td>0.177929</td>\n",
       "      <td>-0.077330</td>\n",
       "    </tr>\n",
       "    <tr>\n",
       "      <th>excel</th>\n",
       "      <td>-0.036466</td>\n",
       "      <td>-0.072323</td>\n",
       "      <td>0.038846</td>\n",
       "      <td>-0.021519</td>\n",
       "      <td>-0.047334</td>\n",
       "      <td>-0.019235</td>\n",
       "      <td>1.000000</td>\n",
       "      <td>0.109548</td>\n",
       "      <td>0.052017</td>\n",
       "      <td>-0.030136</td>\n",
       "      <td>-0.065215</td>\n",
       "      <td>-0.023238</td>\n",
       "      <td>-0.078846</td>\n",
       "      <td>0.022847</td>\n",
       "      <td>0.145915</td>\n",
       "      <td>0.068613</td>\n",
       "      <td>-0.028762</td>\n",
       "      <td>0.094860</td>\n",
       "      <td>0.112628</td>\n",
       "    </tr>\n",
       "    <tr>\n",
       "      <th>sql</th>\n",
       "      <td>0.134463</td>\n",
       "      <td>0.002008</td>\n",
       "      <td>-0.117977</td>\n",
       "      <td>0.373999</td>\n",
       "      <td>0.261304</td>\n",
       "      <td>0.106902</td>\n",
       "      <td>0.109548</td>\n",
       "      <td>1.000000</td>\n",
       "      <td>0.200788</td>\n",
       "      <td>0.015975</td>\n",
       "      <td>-0.011757</td>\n",
       "      <td>0.096994</td>\n",
       "      <td>0.037589</td>\n",
       "      <td>0.278207</td>\n",
       "      <td>0.379234</td>\n",
       "      <td>0.248244</td>\n",
       "      <td>-0.049602</td>\n",
       "      <td>0.198825</td>\n",
       "      <td>0.056085</td>\n",
       "    </tr>\n",
       "    <tr>\n",
       "      <th>sas</th>\n",
       "      <td>0.000324</td>\n",
       "      <td>0.101938</td>\n",
       "      <td>0.030657</td>\n",
       "      <td>0.086607</td>\n",
       "      <td>-0.055031</td>\n",
       "      <td>-0.140850</td>\n",
       "      <td>0.052017</td>\n",
       "      <td>0.200788</td>\n",
       "      <td>1.000000</td>\n",
       "      <td>-0.063016</td>\n",
       "      <td>-0.052381</td>\n",
       "      <td>0.021811</td>\n",
       "      <td>-0.054448</td>\n",
       "      <td>-0.076515</td>\n",
       "      <td>0.152072</td>\n",
       "      <td>0.054106</td>\n",
       "      <td>-0.036521</td>\n",
       "      <td>0.102419</td>\n",
       "      <td>0.095853</td>\n",
       "    </tr>\n",
       "    <tr>\n",
       "      <th>keras</th>\n",
       "      <td>0.076893</td>\n",
       "      <td>0.115658</td>\n",
       "      <td>-0.065947</td>\n",
       "      <td>0.190566</td>\n",
       "      <td>0.107790</td>\n",
       "      <td>0.132776</td>\n",
       "      <td>-0.030136</td>\n",
       "      <td>0.015975</td>\n",
       "      <td>-0.063016</td>\n",
       "      <td>1.000000</td>\n",
       "      <td>0.357628</td>\n",
       "      <td>0.505696</td>\n",
       "      <td>0.544731</td>\n",
       "      <td>0.002864</td>\n",
       "      <td>-0.031054</td>\n",
       "      <td>-0.057622</td>\n",
       "      <td>-0.023572</td>\n",
       "      <td>0.049647</td>\n",
       "      <td>0.023145</td>\n",
       "    </tr>\n",
       "    <tr>\n",
       "      <th>pytorch</th>\n",
       "      <td>0.058564</td>\n",
       "      <td>0.044759</td>\n",
       "      <td>-0.039562</td>\n",
       "      <td>0.113676</td>\n",
       "      <td>0.032138</td>\n",
       "      <td>0.110025</td>\n",
       "      <td>-0.065215</td>\n",
       "      <td>-0.011757</td>\n",
       "      <td>-0.052381</td>\n",
       "      <td>0.357628</td>\n",
       "      <td>1.000000</td>\n",
       "      <td>0.398992</td>\n",
       "      <td>0.636887</td>\n",
       "      <td>-0.040753</td>\n",
       "      <td>-0.117569</td>\n",
       "      <td>-0.067296</td>\n",
       "      <td>-0.027530</td>\n",
       "      <td>-0.053959</td>\n",
       "      <td>-0.032663</td>\n",
       "    </tr>\n",
       "    <tr>\n",
       "      <th>scikit</th>\n",
       "      <td>0.110033</td>\n",
       "      <td>0.178237</td>\n",
       "      <td>-0.081608</td>\n",
       "      <td>0.254331</td>\n",
       "      <td>0.271394</td>\n",
       "      <td>0.087712</td>\n",
       "      <td>-0.023238</td>\n",
       "      <td>0.096994</td>\n",
       "      <td>0.021811</td>\n",
       "      <td>0.505696</td>\n",
       "      <td>0.398992</td>\n",
       "      <td>1.000000</td>\n",
       "      <td>0.521607</td>\n",
       "      <td>0.138724</td>\n",
       "      <td>-0.035976</td>\n",
       "      <td>-0.001482</td>\n",
       "      <td>0.057243</td>\n",
       "      <td>0.031159</td>\n",
       "      <td>-0.000719</td>\n",
       "    </tr>\n",
       "    <tr>\n",
       "      <th>tensor</th>\n",
       "      <td>0.069042</td>\n",
       "      <td>0.160098</td>\n",
       "      <td>-0.055830</td>\n",
       "      <td>0.209430</td>\n",
       "      <td>0.237612</td>\n",
       "      <td>0.116905</td>\n",
       "      <td>-0.078846</td>\n",
       "      <td>0.037589</td>\n",
       "      <td>-0.054448</td>\n",
       "      <td>0.544731</td>\n",
       "      <td>0.636887</td>\n",
       "      <td>0.521607</td>\n",
       "      <td>1.000000</td>\n",
       "      <td>-0.012599</td>\n",
       "      <td>-0.129449</td>\n",
       "      <td>-0.093661</td>\n",
       "      <td>0.119629</td>\n",
       "      <td>-0.012347</td>\n",
       "      <td>-0.011996</td>\n",
       "    </tr>\n",
       "    <tr>\n",
       "      <th>hadoop</th>\n",
       "      <td>0.145098</td>\n",
       "      <td>0.110562</td>\n",
       "      <td>-0.053311</td>\n",
       "      <td>0.235114</td>\n",
       "      <td>0.537081</td>\n",
       "      <td>0.276749</td>\n",
       "      <td>0.022847</td>\n",
       "      <td>0.278207</td>\n",
       "      <td>-0.076515</td>\n",
       "      <td>0.002864</td>\n",
       "      <td>-0.040753</td>\n",
       "      <td>0.138724</td>\n",
       "      <td>-0.012599</td>\n",
       "      <td>1.000000</td>\n",
       "      <td>0.092814</td>\n",
       "      <td>0.022448</td>\n",
       "      <td>0.135617</td>\n",
       "      <td>0.196110</td>\n",
       "      <td>-0.035567</td>\n",
       "    </tr>\n",
       "    <tr>\n",
       "      <th>tableau</th>\n",
       "      <td>0.001717</td>\n",
       "      <td>-0.074753</td>\n",
       "      <td>-0.055828</td>\n",
       "      <td>0.154118</td>\n",
       "      <td>-0.018655</td>\n",
       "      <td>-0.000834</td>\n",
       "      <td>0.145915</td>\n",
       "      <td>0.379234</td>\n",
       "      <td>0.152072</td>\n",
       "      <td>-0.031054</td>\n",
       "      <td>-0.117569</td>\n",
       "      <td>-0.035976</td>\n",
       "      <td>-0.129449</td>\n",
       "      <td>0.092814</td>\n",
       "      <td>1.000000</td>\n",
       "      <td>0.457481</td>\n",
       "      <td>-0.058342</td>\n",
       "      <td>0.149059</td>\n",
       "      <td>0.079510</td>\n",
       "    </tr>\n",
       "    <tr>\n",
       "      <th>bi</th>\n",
       "      <td>0.039784</td>\n",
       "      <td>-0.044491</td>\n",
       "      <td>0.020544</td>\n",
       "      <td>0.167770</td>\n",
       "      <td>-0.044026</td>\n",
       "      <td>0.032589</td>\n",
       "      <td>0.068613</td>\n",
       "      <td>0.248244</td>\n",
       "      <td>0.054106</td>\n",
       "      <td>-0.057622</td>\n",
       "      <td>-0.067296</td>\n",
       "      <td>-0.001482</td>\n",
       "      <td>-0.093661</td>\n",
       "      <td>0.022448</td>\n",
       "      <td>0.457481</td>\n",
       "      <td>1.000000</td>\n",
       "      <td>-0.033395</td>\n",
       "      <td>0.004865</td>\n",
       "      <td>0.035376</td>\n",
       "    </tr>\n",
       "    <tr>\n",
       "      <th>flink</th>\n",
       "      <td>0.048338</td>\n",
       "      <td>0.085859</td>\n",
       "      <td>-0.058273</td>\n",
       "      <td>0.063615</td>\n",
       "      <td>0.216880</td>\n",
       "      <td>0.154647</td>\n",
       "      <td>-0.028762</td>\n",
       "      <td>-0.049602</td>\n",
       "      <td>-0.036521</td>\n",
       "      <td>-0.023572</td>\n",
       "      <td>-0.027530</td>\n",
       "      <td>0.057243</td>\n",
       "      <td>0.119629</td>\n",
       "      <td>0.135617</td>\n",
       "      <td>-0.058342</td>\n",
       "      <td>-0.033395</td>\n",
       "      <td>1.000000</td>\n",
       "      <td>0.026921</td>\n",
       "      <td>-0.016208</td>\n",
       "    </tr>\n",
       "    <tr>\n",
       "      <th>mongo</th>\n",
       "      <td>0.035587</td>\n",
       "      <td>0.070925</td>\n",
       "      <td>0.044605</td>\n",
       "      <td>0.080035</td>\n",
       "      <td>0.232356</td>\n",
       "      <td>0.177929</td>\n",
       "      <td>0.094860</td>\n",
       "      <td>0.198825</td>\n",
       "      <td>0.102419</td>\n",
       "      <td>0.049647</td>\n",
       "      <td>-0.053959</td>\n",
       "      <td>0.031159</td>\n",
       "      <td>-0.012347</td>\n",
       "      <td>0.196110</td>\n",
       "      <td>0.149059</td>\n",
       "      <td>0.004865</td>\n",
       "      <td>0.026921</td>\n",
       "      <td>1.000000</td>\n",
       "      <td>0.013738</td>\n",
       "    </tr>\n",
       "    <tr>\n",
       "      <th>google_an</th>\n",
       "      <td>-0.019351</td>\n",
       "      <td>-0.123306</td>\n",
       "      <td>-0.058240</td>\n",
       "      <td>-0.027705</td>\n",
       "      <td>-0.051017</td>\n",
       "      <td>-0.077330</td>\n",
       "      <td>0.112628</td>\n",
       "      <td>0.056085</td>\n",
       "      <td>0.095853</td>\n",
       "      <td>0.023145</td>\n",
       "      <td>-0.032663</td>\n",
       "      <td>-0.000719</td>\n",
       "      <td>-0.011996</td>\n",
       "      <td>-0.035567</td>\n",
       "      <td>0.079510</td>\n",
       "      <td>0.035376</td>\n",
       "      <td>-0.016208</td>\n",
       "      <td>0.013738</td>\n",
       "      <td>1.000000</td>\n",
       "    </tr>\n",
       "  </tbody>\n",
       "</table>\n",
       "</div>"
      ],
      "text/plain": [
       "                 Rating  Avg Salary(K)       Age    Python     spark  \\\n",
       "Rating         1.000000       0.012475  0.023162  0.144665  0.156982   \n",
       "Avg Salary(K)  0.012475       1.000000  0.022076  0.315552  0.170678   \n",
       "Age            0.023162       0.022076  1.000000 -0.098626 -0.102418   \n",
       "Python         0.144665       0.315552 -0.098626  1.000000  0.347619   \n",
       "spark          0.156982       0.170678 -0.102418  0.347619  1.000000   \n",
       "aws            0.117049       0.172660 -0.033111  0.203221  0.298822   \n",
       "excel         -0.036466      -0.072323  0.038846 -0.021519 -0.047334   \n",
       "sql            0.134463       0.002008 -0.117977  0.373999  0.261304   \n",
       "sas            0.000324       0.101938  0.030657  0.086607 -0.055031   \n",
       "keras          0.076893       0.115658 -0.065947  0.190566  0.107790   \n",
       "pytorch        0.058564       0.044759 -0.039562  0.113676  0.032138   \n",
       "scikit         0.110033       0.178237 -0.081608  0.254331  0.271394   \n",
       "tensor         0.069042       0.160098 -0.055830  0.209430  0.237612   \n",
       "hadoop         0.145098       0.110562 -0.053311  0.235114  0.537081   \n",
       "tableau        0.001717      -0.074753 -0.055828  0.154118 -0.018655   \n",
       "bi             0.039784      -0.044491  0.020544  0.167770 -0.044026   \n",
       "flink          0.048338       0.085859 -0.058273  0.063615  0.216880   \n",
       "mongo          0.035587       0.070925  0.044605  0.080035  0.232356   \n",
       "google_an     -0.019351      -0.123306 -0.058240 -0.027705 -0.051017   \n",
       "\n",
       "                    aws     excel       sql       sas     keras   pytorch  \\\n",
       "Rating         0.117049 -0.036466  0.134463  0.000324  0.076893  0.058564   \n",
       "Avg Salary(K)  0.172660 -0.072323  0.002008  0.101938  0.115658  0.044759   \n",
       "Age           -0.033111  0.038846 -0.117977  0.030657 -0.065947 -0.039562   \n",
       "Python         0.203221 -0.021519  0.373999  0.086607  0.190566  0.113676   \n",
       "spark          0.298822 -0.047334  0.261304 -0.055031  0.107790  0.032138   \n",
       "aws            1.000000 -0.019235  0.106902 -0.140850  0.132776  0.110025   \n",
       "excel         -0.019235  1.000000  0.109548  0.052017 -0.030136 -0.065215   \n",
       "sql            0.106902  0.109548  1.000000  0.200788  0.015975 -0.011757   \n",
       "sas           -0.140850  0.052017  0.200788  1.000000 -0.063016 -0.052381   \n",
       "keras          0.132776 -0.030136  0.015975 -0.063016  1.000000  0.357628   \n",
       "pytorch        0.110025 -0.065215 -0.011757 -0.052381  0.357628  1.000000   \n",
       "scikit         0.087712 -0.023238  0.096994  0.021811  0.505696  0.398992   \n",
       "tensor         0.116905 -0.078846  0.037589 -0.054448  0.544731  0.636887   \n",
       "hadoop         0.276749  0.022847  0.278207 -0.076515  0.002864 -0.040753   \n",
       "tableau       -0.000834  0.145915  0.379234  0.152072 -0.031054 -0.117569   \n",
       "bi             0.032589  0.068613  0.248244  0.054106 -0.057622 -0.067296   \n",
       "flink          0.154647 -0.028762 -0.049602 -0.036521 -0.023572 -0.027530   \n",
       "mongo          0.177929  0.094860  0.198825  0.102419  0.049647 -0.053959   \n",
       "google_an     -0.077330  0.112628  0.056085  0.095853  0.023145 -0.032663   \n",
       "\n",
       "                 scikit    tensor    hadoop   tableau        bi     flink  \\\n",
       "Rating         0.110033  0.069042  0.145098  0.001717  0.039784  0.048338   \n",
       "Avg Salary(K)  0.178237  0.160098  0.110562 -0.074753 -0.044491  0.085859   \n",
       "Age           -0.081608 -0.055830 -0.053311 -0.055828  0.020544 -0.058273   \n",
       "Python         0.254331  0.209430  0.235114  0.154118  0.167770  0.063615   \n",
       "spark          0.271394  0.237612  0.537081 -0.018655 -0.044026  0.216880   \n",
       "aws            0.087712  0.116905  0.276749 -0.000834  0.032589  0.154647   \n",
       "excel         -0.023238 -0.078846  0.022847  0.145915  0.068613 -0.028762   \n",
       "sql            0.096994  0.037589  0.278207  0.379234  0.248244 -0.049602   \n",
       "sas            0.021811 -0.054448 -0.076515  0.152072  0.054106 -0.036521   \n",
       "keras          0.505696  0.544731  0.002864 -0.031054 -0.057622 -0.023572   \n",
       "pytorch        0.398992  0.636887 -0.040753 -0.117569 -0.067296 -0.027530   \n",
       "scikit         1.000000  0.521607  0.138724 -0.035976 -0.001482  0.057243   \n",
       "tensor         0.521607  1.000000 -0.012599 -0.129449 -0.093661  0.119629   \n",
       "hadoop         0.138724 -0.012599  1.000000  0.092814  0.022448  0.135617   \n",
       "tableau       -0.035976 -0.129449  0.092814  1.000000  0.457481 -0.058342   \n",
       "bi            -0.001482 -0.093661  0.022448  0.457481  1.000000 -0.033395   \n",
       "flink          0.057243  0.119629  0.135617 -0.058342 -0.033395  1.000000   \n",
       "mongo          0.031159 -0.012347  0.196110  0.149059  0.004865  0.026921   \n",
       "google_an     -0.000719 -0.011996 -0.035567  0.079510  0.035376 -0.016208   \n",
       "\n",
       "                  mongo  google_an  \n",
       "Rating         0.035587  -0.019351  \n",
       "Avg Salary(K)  0.070925  -0.123306  \n",
       "Age            0.044605  -0.058240  \n",
       "Python         0.080035  -0.027705  \n",
       "spark          0.232356  -0.051017  \n",
       "aws            0.177929  -0.077330  \n",
       "excel          0.094860   0.112628  \n",
       "sql            0.198825   0.056085  \n",
       "sas            0.102419   0.095853  \n",
       "keras          0.049647   0.023145  \n",
       "pytorch       -0.053959  -0.032663  \n",
       "scikit         0.031159  -0.000719  \n",
       "tensor        -0.012347  -0.011996  \n",
       "hadoop         0.196110  -0.035567  \n",
       "tableau        0.149059   0.079510  \n",
       "bi             0.004865   0.035376  \n",
       "flink          0.026921  -0.016208  \n",
       "mongo          1.000000   0.013738  \n",
       "google_an      0.013738   1.000000  "
      ]
     },
     "execution_count": 40,
     "metadata": {},
     "output_type": "execute_result"
    }
   ],
   "source": [
    "df1.corr()"
   ]
  },
  {
   "cell_type": "code",
   "execution_count": 41,
   "metadata": {},
   "outputs": [],
   "source": [
    "import matplotlib.pyplot as plt\n",
    "import seaborn as sns"
   ]
  },
  {
   "cell_type": "markdown",
   "metadata": {},
   "source": [
    "we see no big correlation between variables of df1"
   ]
  },
  {
   "cell_type": "code",
   "execution_count": 42,
   "metadata": {},
   "outputs": [
    {
     "data": {
      "image/png": "[encoded data removed]",
      "text/plain": [
       "<Figure size 1080x504 with 2 Axes>"
      ]
     },
     "metadata": {
      "needs_background": "light"
     },
     "output_type": "display_data"
    }
   ],
   "source": [
    "plt.figure(figsize=(15, 7))\n",
    "sns.heatmap(df1.corr(), annot=True, cmap=\"coolwarm\");"
   ]
  },
  {
   "cell_type": "code",
   "execution_count": 43,
   "metadata": {},
   "outputs": [],
   "source": [
    "X=df1[[ 'Hourly', 'Age',\n",
    "       'Employer provided',   'job_title_sim',\n",
    "       'seniority_by_title', 'Degree']]"
   ]
  },
  {
   "cell_type": "code",
   "execution_count": 44,
   "metadata": {},
   "outputs": [],
   "source": [
    "y=df1['Avg Salary(K)']"
   ]
  },
  {
   "cell_type": "code",
   "execution_count": 43,
   "metadata": {},
   "outputs": [],
   "source": [
    "X=df1[[ 'Hourly',\n",
    "       'Employer provided',  'Age', 'Python',  'aws',\n",
    "       'sql', 'sas',  'pytorch', 'tensor', \n",
    "        'mongo',  \n",
    "       'seniority_by_title', 'Degree']]"
   ]
  },
  {
   "cell_type": "code",
   "execution_count": 44,
   "metadata": {},
   "outputs": [],
   "source": [
    "y=df1['Avg Salary(K)']"
   ]
  },
  {
   "cell_type": "code",
   "execution_count": 45,
   "metadata": {},
   "outputs": [],
   "source": [
    "X = pd.get_dummies(X, drop_first=True)"
   ]
  },
  {
   "cell_type": "code",
   "execution_count": 46,
   "metadata": {},
   "outputs": [],
   "source": [
    "from sklearn.preprocessing import MinMaxScaler\n",
    "\n",
    "scaler = MinMaxScaler(feature_range = (0,1))"
   ]
  },
  {
   "cell_type": "code",
   "execution_count": 47,
   "metadata": {},
   "outputs": [],
   "source": [
    "from sklearn.linear_model import LinearRegression"
   ]
  },
  {
   "cell_type": "code",
   "execution_count": 48,
   "metadata": {},
   "outputs": [],
   "source": [
    "lr=LinearRegression()"
   ]
  },
  {
   "cell_type": "code",
   "execution_count": 49,
   "metadata": {},
   "outputs": [],
   "source": [
    "from sklearn.model_selection import train_test_split"
   ]
  },
  {
   "cell_type": "code",
   "execution_count": 50,
   "metadata": {},
   "outputs": [],
   "source": [
    "X_train, X_test, y_train, y_test = train_test_split(X, y, test_size=.20, random_state=1)"
   ]
  },
  {
   "cell_type": "code",
   "execution_count": 51,
   "metadata": {},
   "outputs": [],
   "source": [
    "scaler.fit(X_train)\n",
    "X_train = scaler.fit_transform(X_train)\n",
    "X_test = scaler.transform(X_test)"
   ]
  },
  {
   "cell_type": "code",
   "execution_count": 52,
   "metadata": {},
   "outputs": [
    {
     "data": {
      "text/plain": [
       "LinearRegression()"
      ]
     },
     "execution_count": 52,
     "metadata": {},
     "output_type": "execute_result"
    }
   ],
   "source": [
    "lr.fit(X,y)"
   ]
  },
  {
   "cell_type": "code",
   "execution_count": 53,
   "metadata": {},
   "outputs": [
    {
     "name": "stderr",
     "output_type": "stream",
     "text": [
      "C:\\Users\\vasia\\AppData\\Roaming\\Python\\Python38\\site-packages\\sklearn\\base.py:450: UserWarning: X does not have valid feature names, but LinearRegression was fitted with feature names\n",
      "  warnings.warn(\n"
     ]
    }
   ],
   "source": [
    "lr_pred=lr.predict(X_test)"
   ]
  },
  {
   "cell_type": "code",
   "execution_count": 54,
   "metadata": {},
   "outputs": [
    {
     "data": {
      "text/plain": [
       "0.41875409117659135"
      ]
     },
     "execution_count": 54,
     "metadata": {},
     "output_type": "execute_result"
    }
   ],
   "source": [
    "lr.score(X,y)"
   ]
  },
  {
   "cell_type": "code",
   "execution_count": 55,
   "metadata": {},
   "outputs": [],
   "source": [
    "import statsmodels.api as sm"
   ]
  },
  {
   "cell_type": "code",
   "execution_count": 56,
   "metadata": {},
   "outputs": [
    {
     "name": "stdout",
     "output_type": "stream",
     "text": [
      "                            OLS Regression Results                            \n",
      "==============================================================================\n",
      "Dep. Variable:          Avg Salary(K)   R-squared:                       0.419\n",
      "Model:                            OLS   Adj. R-squared:                  0.406\n",
      "Method:                 Least Squares   F-statistic:                     32.65\n",
      "Date:                Tue, 24 May 2022   Prob (F-statistic):           1.56e-74\n",
      "Time:                        10:29:50   Log-Likelihood:                -3540.0\n",
      "No. Observations:                 742   AIC:                             7114.\n",
      "Df Residuals:                     725   BIC:                             7192.\n",
      "Df Model:                          16                                         \n",
      "Covariance Type:            nonrobust                                         \n",
      "===========================================================================================================\n",
      "                                              coef    std err          t      P>|t|      [0.025      0.975]\n",
      "-----------------------------------------------------------------------------------------------------------\n",
      "const                                      65.3889     18.512      3.532      0.000      29.046     101.732\n",
      "Age                                         0.0326      0.021      1.554      0.121      -0.009       0.074\n",
      "Hourly_1                                  -31.8427      6.638     -4.797      0.000     -44.874     -18.811\n",
      "Employer provided_1                        29.2733      7.311      4.004      0.000      14.919      43.627\n",
      "job_title_sim_analyst                     -12.1795      7.820     -1.557      0.120     -27.532       3.173\n",
      "job_title_sim_data analitics               -3.0994     12.527     -0.247      0.805     -27.693      21.494\n",
      "job_title_sim_data engineer                25.0874      7.744      3.239      0.001       9.883      40.292\n",
      "job_title_sim_data modeler                  3.0906     14.824      0.208      0.835     -26.012      32.194\n",
      "job_title_sim_data scientist               36.1277      7.465      4.839      0.000      21.472      50.784\n",
      "job_title_sim_director                     51.3695     15.007      3.423      0.001      21.908      80.831\n",
      "job_title_sim_machine learning engineer    42.8738      9.639      4.448      0.000      23.949      61.798\n",
      "job_title_sim_na                           10.6254     11.680      0.910      0.363     -12.305      33.556\n",
      "job_title_sim_other scientist               6.6644      7.868      0.847      0.397      -8.782      22.111\n",
      "seniority_by_title_na                       6.6860     16.827      0.397      0.691     -26.350      39.722\n",
      "seniority_by_title_sr                      30.8862     16.901      1.827      0.068      -2.295      64.068\n",
      "Degree_P                                    7.0664      3.748      1.886      0.060      -0.291      14.424\n",
      "Degree_na                                  -1.1297      2.489     -0.454      0.650      -6.017       3.758\n",
      "==============================================================================\n",
      "Omnibus:                      155.764   Durbin-Watson:                   2.069\n",
      "Prob(Omnibus):                  0.000   Jarque-Bera (JB):              379.132\n",
      "Skew:                           1.096   Prob(JB):                     4.71e-83\n",
      "Kurtosis:                       5.731   Cond. No.                     2.03e+03\n",
      "==============================================================================\n",
      "\n",
      "Notes:\n",
      "[1] Standard Errors assume that the covariance matrix of the errors is correctly specified.\n",
      "[2] The condition number is large, 2.03e+03. This might indicate that there are\n",
      "strong multicollinearity or other numerical problems.\n"
     ]
    }
   ],
   "source": [
    "X = sm.add_constant(X) # adding a constant\n",
    "\n",
    "model = sm.OLS(y, X).fit()\n",
    "predictions = model.predict(X) \n",
    "\n",
    "print(model.summary())"
   ]
  },
  {
   "cell_type": "code",
   "execution_count": 57,
   "metadata": {},
   "outputs": [
    {
     "name": "stdout",
     "output_type": "stream",
     "text": [
      "0.5439325018653918\n"
     ]
    }
   ],
   "source": [
    "from sklearn.preprocessing import PolynomialFeatures\n",
    "from sklearn import linear_model\n",
    "\n",
    "poly = PolynomialFeatures(degree=3, interaction_only=True)\n",
    "X_train5 = poly.fit_transform(X_train)\n",
    "X_test5 = poly.fit_transform(X_test)\n",
    "\n",
    "poly_clf = linear_model.LinearRegression()\n",
    "\n",
    "poly_clf.fit(X_train5, y_train)\n",
    "\n",
    "y_pred = poly_clf.predict(X_test5)\n",
    "\n",
    "print(poly_clf.score(X_train5, y_train))"
   ]
  },
  {
   "cell_type": "code",
   "execution_count": 54,
   "metadata": {},
   "outputs": [
    {
     "data": {
      "text/plain": [
       "0.3253906438069757"
      ]
     },
     "execution_count": 54,
     "metadata": {},
     "output_type": "execute_result"
    }
   ],
   "source": [
    "lr.score(X,y)"
   ]
  },
  {
   "cell_type": "code",
   "execution_count": 55,
   "metadata": {},
   "outputs": [
    {
     "name": "stdout",
     "output_type": "stream",
     "text": [
      "0.5439821726625487\n"
     ]
    }
   ],
   "source": [
    "from sklearn.preprocessing import PolynomialFeatures\n",
    "from sklearn import linear_model\n",
    "\n",
    "poly = PolynomialFeatures(degree=3, interaction_only=True)\n",
    "X_train5 = poly.fit_transform(X_train)\n",
    "X_test5 = poly.fit_transform(X_test)\n",
    "\n",
    "poly_clf = linear_model.LinearRegression()\n",
    "\n",
    "poly_clf.fit(X_train5, y_train)\n",
    "\n",
    "y_pred = poly_clf.predict(X_test5)\n",
    "\n",
    "print(poly_clf.score(X_train5, y_train))"
   ]
  },
  {
   "cell_type": "markdown",
   "metadata": {},
   "source": [
    "Results of course are not impressive as far"
   ]
  },
  {
   "cell_type": "markdown",
   "metadata": {},
   "source": [
    "If we had many variables, we have had overfitting and we lack explainability, so we are going to run a new notebook, where we will do extensive feature engineering in order to get the explaination we need and have a more compact dataset"
   ]
  },
  {
   "cell_type": "code",
   "execution_count": null,
   "metadata": {},
   "outputs": [],
   "source": []
  }
 ],
 "metadata": {
  "kernelspec": {
   "display_name": "Python 3",
   "language": "python",
   "name": "python3"
  },
  "language_info": {
   "codemirror_mode": {
    "name": "ipython",
    "version": 3
   },
   "file_extension": ".py",
   "mimetype": "text/x-python",
   "name": "python",
   "nbconvert_exporter": "python",
   "pygments_lexer": "ipython3",
   "version": "3.8.3"
  }
 },
 "nbformat": 4,
 "nbformat_minor": 4
}
